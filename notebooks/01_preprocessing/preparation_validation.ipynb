{
 "cells": [
  {
   "cell_type": "markdown",
   "id": "4b7cc58e",
   "metadata": {},
   "source": [
    "# Validation Dataset\n",
    "This notebook processes raw patient CSV files by extracting inspired oxygen, SpO₂, and hemoglobin values, assigning each patient an anonymous ID, and combining all data into a single dataset. It also creates a mapping between original filenames and anonymous IDs. The result is saved as a clean validation dataset and a mapping file for further analysis."
   ]
  },
  {
   "cell_type": "code",
   "execution_count": null,
   "id": "afd82f31",
   "metadata": {},
   "outputs": [],
   "source": [
    "import pandas as pd\n",
    "from pathlib import Path\n",
    "\n",
    "# Input and output paths\n",
    "input_folder = Path(\"path_to_folder\")  \n",
    "output_csv = Path(\"validation_set.csv\")\n",
    "mapping_csv = Path(\"validation_set_mapping.csv\")\n",
    "\n",
    "# List of CSV files\n",
    "files = list(input_folder.glob(\"*.csv\"))\n",
    "\n",
    "# Storage\n",
    "all_data = []\n",
    "mappings = []\n",
    "\n",
    "# Loop through files\n",
    "for i, file_path in enumerate(files, start=1):\n",
    "    patient_id = i  # now just 1, 2, 3...\n",
    "    mappings.append({\"Original Filename\": file_path.name, \"Anon. Patient_ID\": patient_id})\n",
    "    \n",
    "    df = pd.read_csv(file_path, comment=\"#\").dropna(how=\"all\")\n",
    "    last_row = df.iloc[-1]\n",
    "    \n",
    "    # Find Hb value\n",
    "    if any(isinstance(x, str) and 'hb' in x.lower() for x in last_row):\n",
    "        hb_idx = next(j for j, x in enumerate(last_row) if isinstance(x, str) and 'hb' in x.lower())\n",
    "        hb_val_idx = hb_idx + 1 if hb_idx + 1 < len(last_row) else hb_idx - 1\n",
    "        hb = float(last_row.iloc[hb_val_idx])\n",
    "        df = df.iloc[:-1]  # drop Hb row\n",
    "    else:\n",
    "        raise ValueError(f\"No Hb value found in {file_path.name}\")\n",
    "\n",
    "    # Clean + rename columns\n",
    "    df.columns = [col.strip().replace(\" \", \"\").replace(\".\", \"\") for col in df.columns]\n",
    "    df.rename(columns={\"InspO2(%)\": \"Insp.O2(%)\", \"SpO2(%)\": \"SpO2(%)\"}, inplace=True)\n",
    "\n",
    "    # Add columns\n",
    "    df[\"Hb\"] = hb\n",
    "    df[\"Anon. Patient_ID\"] = patient_id\n",
    "    df = df[[\"Anon. Patient_ID\", \"Insp.O2(%)\", \"SpO2(%)\", \"Hb\"]]  # reorder\n",
    "\n",
    "    all_data.append(df)\n",
    "\n",
    "# Save final combined dataset\n",
    "final_df = pd.concat(all_data, ignore_index=True)\n",
    "final_df.to_csv(output_csv, index=False)\n",
    "\n",
    "# Save mapping\n",
    "pd.DataFrame(mappings).to_csv(mapping_csv, index=False)\n",
    "\n",
    "print(f\"Done! {len(files)} files processed.\\nSaved:\\n- {output_csv}\\n- {mapping_csv}\")\n"
   ]
  }
 ],
 "metadata": {
  "language_info": {
   "name": "python"
  }
 },
 "nbformat": 4,
 "nbformat_minor": 5
}
