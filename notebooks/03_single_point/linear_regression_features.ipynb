{
 "cells": [
  {
   "cell_type": "markdown",
   "id": "63e4ce4e",
   "metadata": {},
   "source": [
    "# Baseline Linear Regression"
   ]
  },
  {
   "cell_type": "code",
   "execution_count": 2,
   "id": "ecff810c",
   "metadata": {},
   "outputs": [],
   "source": [
    "import sys\n",
    "import pandas as pd\n",
    "import numpy as np\n",
    "import matplotlib.pyplot as plt\n",
    "from pathlib import Path\n",
    "\n",
    "# two levels up from the notebook to project root, then append to sys.path\n",
    "sys.path.append(str(Path().resolve().parents[1]))\n",
    "\n",
    "PROJECT_ROOT = Path().resolve().parents[1]\n",
    "RESULTS_PATH = PROJECT_ROOT / \"results\"\n",
    "\n",
    "\n",
    "from utils.data_loading import load_datasets\n",
    "from utils.data_preparation import get_spo2_to_po2_interpolator, add_shift_raw_column\n",
    "from utils.evaluation import evaluate_macro_patient_level, print_evaluation, bland_altman_plots\n",
    "from utils.modeling import fit_cv_models, predict_cv_ensemble\n",
    "from utils.logging import log_run_json\n",
    "\n",
    "\n",
    "train_df, test_df, val_df, odc = load_datasets()\n",
    "spo2_to_po2 = get_spo2_to_po2_interpolator(odc)\n",
    "\n",
    "train_df = add_shift_raw_column(train_df, spo2_to_po2)\n",
    "test_df  = add_shift_raw_column(test_df, spo2_to_po2)\n",
    "val_df   = add_shift_raw_column(val_df, spo2_to_po2)"
   ]
  },
  {
   "cell_type": "markdown",
   "id": "b5b9b240",
   "metadata": {},
   "source": [
    "# Effect of Difference of Feature Sets"
   ]
  },
  {
   "cell_type": "markdown",
   "id": "3901ce46",
   "metadata": {},
   "source": [
    "## With Fixed Shift_raw"
   ]
  },
  {
   "cell_type": "code",
   "execution_count": 3,
   "id": "09489439",
   "metadata": {},
   "outputs": [],
   "source": [
    "import itertools\n",
    "import pandas as pd\n",
    "from sklearn.linear_model import LinearRegression\n",
    "\n",
    "\n",
    "def add_engineered_features(df):\n",
    "    df['log_PiO2'] = np.log(df['PiO2(kPa)'])\n",
    "    df['log_SpO2'] = np.log(df['SpO2(%)'])\n",
    "    df['SpO2_over_PiO2'] = df['SpO2(%)'] / df['PiO2(kPa)']\n",
    "    df['SpO2_squared'] = df['SpO2(%)'] ** 2\n",
    "    df['Hb_SpO2'] = df['Hb'] * df['SpO2(%)']\n",
    "    df['saturation_deficit'] = 100 - df['SpO2(%)']\n",
    "    df['CaO2_estimate'] = (1.34 * df['Hb'] * df['SpO2(%)'] / 100) + (0.0031 * df['PiO2(kPa)'])\n",
    "    df = add_shift_raw_column(df, spo2_to_po2)  # if not already present\n",
    "    return df\n",
    "\n",
    "\n",
    "train_df_engineered = add_engineered_features(train_df)\n",
    "test_df_engineered = add_engineered_features(test_df)\n",
    "\n",
    "# Always include 'shift_raw'\n",
    "base_features = ['PiO2(kPa)', 'SpO2(%)', 'Hb', 'log_PiO2', 'log_SpO2', 'SpO2_over_PiO2', \n",
    "                 'SpO2_squared', 'Hb_SpO2', 'saturation_deficit', 'CaO2_estimate']\n",
    "\n",
    "mandatory_feature = ['shift_raw']\n",
    "\n",
    "# Generate all combinations of additional features (1 to N), always adding shift_raw\n",
    "feature_combinations = [\n",
    "    mandatory_feature + list(combo)\n",
    "    for r in range(1, len(base_features) + 1)\n",
    "    for combo in itertools.combinations(base_features, r)\n",
    "]\n",
    "\n",
    "\n",
    "# Evaluate each feature set\n",
    "results = []\n",
    "\n",
    "for features in feature_combinations:\n",
    "    features = list(features)\n",
    "    model = LinearRegression()\n",
    "    cv_models = fit_cv_models(train_df_engineered, features=features, target_col='shift', model_class=LinearRegression, k=10)\n",
    "    test_df_engineered['y_pred'] = predict_cv_ensemble(test_df_engineered, features, cv_models)\n",
    "\n",
    "    summary = evaluate_macro_patient_level(test_df_engineered, y_true_col='shift', y_pred_col='y_pred')\n",
    "    results.append({\n",
    "        'features': features,\n",
    "        'MAE': summary['MAE'],\n",
    "        'MSE': summary['MSE'],\n",
    "        'RMSE': summary['RMSE'],\n",
    "        'Bias': summary['Mean Bias Error']\n",
    "    })\n",
    "\n",
    "# Convert results to DataFrame for inspection\n",
    "results_df = pd.DataFrame(results).sort_values(by='MAE')\n"
   ]
  },
  {
   "cell_type": "code",
   "execution_count": 4,
   "id": "b32c97e4",
   "metadata": {},
   "outputs": [
    {
     "data": {
      "application/vnd.microsoft.datawrangler.viewer.v0+json": {
       "columns": [
        {
         "name": "index",
         "rawType": "int64",
         "type": "integer"
        },
        {
         "name": "features",
         "rawType": "object",
         "type": "unknown"
        },
        {
         "name": "MAE",
         "rawType": "float64",
         "type": "float"
        },
        {
         "name": "MSE",
         "rawType": "float64",
         "type": "float"
        },
        {
         "name": "RMSE",
         "rawType": "float64",
         "type": "float"
        },
        {
         "name": "Bias",
         "rawType": "float64",
         "type": "float"
        }
       ],
       "ref": "e3602d56-1957-43f2-ab75-a7ac63a77c0d",
       "rows": [
        [
         "281",
         "['shift_raw', 'SpO2(%)', 'log_PiO2', 'log_SpO2', 'SpO2_squared']",
         "0.8906207539278178",
         "1.73331713401401",
         "1.081507066404966",
         "0.024642411923622994"
        ],
        [
         "551",
         "['shift_raw', 'SpO2(%)', 'log_PiO2', 'log_SpO2', 'SpO2_squared', 'saturation_deficit']",
         "0.8906207539278342",
         "1.7333171340140696",
         "1.0815070664049846",
         "0.02464241192362963"
        ],
        [
         "355",
         "['shift_raw', 'log_PiO2', 'log_SpO2', 'SpO2_squared', 'saturation_deficit']",
         "0.8906207539279732",
         "1.73331713401457",
         "1.0815070664051523",
         "0.024642411923532153"
        ],
        [
         "150",
         "['shift_raw', 'log_PiO2', 'SpO2_squared', 'saturation_deficit']",
         "0.891493060785742",
         "1.7365087126833518",
         "1.0822822775515806",
         "0.024563356914759214"
        ],
        [
         "100",
         "['shift_raw', 'SpO2(%)', 'log_PiO2', 'SpO2_squared']",
         "0.8914930607857994",
         "1.736508712683362",
         "1.0822822775516323",
         "0.024563356914746832"
        ],
        [
         "290",
         "['shift_raw', 'SpO2(%)', 'log_PiO2', 'SpO2_squared', 'saturation_deficit']",
         "0.8914930607858023",
         "1.7365087126834111",
         "1.0822822775516392",
         "0.024563356914754267"
        ],
        [
         "141",
         "['shift_raw', 'log_PiO2', 'log_SpO2', 'SpO2_squared']",
         "0.892682191563776",
         "1.7404695543166544",
         "1.0832545539365734",
         "0.024334287060606568"
        ],
        [
         "157",
         "['shift_raw', 'log_SpO2', 'SpO2_over_PiO2', 'saturation_deficit']",
         "0.8940666910099107",
         "1.7558878887384144",
         "1.0928863139417888",
         "0.05622881831738722"
        ],
        [
         "104",
         "['shift_raw', 'SpO2(%)', 'log_SpO2', 'SpO2_over_PiO2']",
         "0.8940666910099107",
         "1.7558878887384177",
         "1.0928863139417881",
         "0.056228818317394666"
        ],
        [
         "297",
         "['shift_raw', 'SpO2(%)', 'log_SpO2', 'SpO2_over_PiO2', 'saturation_deficit']",
         "0.8940666910099122",
         "1.7558878887384146",
         "1.0928863139417901",
         "0.05622881831737461"
        ],
        [
         "155",
         "['shift_raw', 'log_SpO2', 'SpO2_over_PiO2', 'SpO2_squared']",
         "0.8940827445943879",
         "1.7572786269718284",
         "1.0931292120323264",
         "0.05653186537123736"
        ],
        [
         "98",
         "['shift_raw', 'SpO2(%)', 'log_PiO2', 'log_SpO2']",
         "0.894206893291526",
         "1.7454126046788814",
         "1.084446040717311",
         "0.024090007931952647"
        ],
        [
         "143",
         "['shift_raw', 'log_PiO2', 'log_SpO2', 'saturation_deficit']",
         "0.8942068932915301",
         "1.7454126046788847",
         "1.0844460407173144",
         "0.024090007931958136"
        ],
        [
         "283",
         "['shift_raw', 'SpO2(%)', 'log_PiO2', 'log_SpO2', 'saturation_deficit']",
         "0.8942068932915462",
         "1.745412604678853",
         "1.0844460407173258",
         "0.024090007931951207"
        ],
        [
         "166",
         "['shift_raw', 'SpO2_over_PiO2', 'SpO2_squared', 'saturation_deficit']",
         "0.8942550154764876",
         "1.7590798793112021",
         "1.093517436644741",
         "0.056804506062165916"
        ],
        [
         "306",
         "['shift_raw', 'SpO2(%)', 'SpO2_over_PiO2', 'SpO2_squared', 'saturation_deficit']",
         "0.8942550154764876",
         "1.7590798793111913",
         "1.0935174366447415",
         "0.05680450606216137"
        ],
        [
         "109",
         "['shift_raw', 'SpO2(%)', 'SpO2_over_PiO2', 'SpO2_squared']",
         "0.8942550154764878",
         "1.7590798793111635",
         "1.0935174366447384",
         "0.05680450606216366"
        ],
        [
         "35",
         "['shift_raw', 'log_PiO2', 'SpO2_over_PiO2']",
         "0.9052328521604576",
         "1.9641575487258003",
         "1.1124328270494803",
         "0.06218828567373225"
        ],
        [
         "45",
         "['shift_raw', 'SpO2_over_PiO2', 'SpO2_squared']",
         "0.9066500182375267",
         "1.8199490244700185",
         "1.1082709911462223",
         "0.058382429418559645"
        ],
        [
         "5",
         "['shift_raw', 'SpO2_over_PiO2']",
         "0.9070064596365148",
         "1.9791178111600904",
         "1.1141119221136706",
         "0.06202485485532764"
        ],
        [
         "47",
         "['shift_raw', 'SpO2_over_PiO2', 'saturation_deficit']",
         "0.9076663408966686",
         "1.826515842721402",
         "1.1094305829367619",
         "0.05855373250555624"
        ],
        [
         "22",
         "['shift_raw', 'SpO2(%)', 'SpO2_over_PiO2']",
         "0.9076663408966686",
         "1.826515842721402",
         "1.1094305829367619",
         "0.05855373250555686"
        ],
        [
         "111",
         "['shift_raw', 'SpO2(%)', 'SpO2_over_PiO2', 'saturation_deficit']",
         "0.9076663408966689",
         "1.8265158427214012",
         "1.1094305829367623",
         "0.05855373250555677"
        ],
        [
         "40",
         "['shift_raw', 'log_SpO2', 'SpO2_over_PiO2']",
         "0.908574208332882",
         "1.8334461220132587",
         "1.1105353712327182",
         "0.05876609534291841"
        ],
        [
         "371",
         "['shift_raw', 'log_SpO2', 'SpO2_over_PiO2', 'SpO2_squared', 'saturation_deficit']",
         "0.9108336060703534",
         "1.814964335656381",
         "1.1076472277810039",
         "0.048548115468542284"
        ],
        [
         "295",
         "['shift_raw', 'SpO2(%)', 'log_SpO2', 'SpO2_over_PiO2', 'SpO2_squared']",
         "0.9108336060802654",
         "1.8149643356677367",
         "1.1076472277915452",
         "0.048548115469214434"
        ],
        [
         "567",
         "['shift_raw', 'SpO2(%)', 'log_SpO2', 'SpO2_over_PiO2', 'SpO2_squared', 'saturation_deficit']",
         "0.9108336060804635",
         "1.8149643356681073",
         "1.1076472277917437",
         "0.048548115469535795"
        ],
        [
         "36",
         "['shift_raw', 'log_PiO2', 'SpO2_squared']",
         "0.9213242369405842",
         "1.8748428703742908",
         "1.1144505126702744",
         "0.032833072772461745"
        ],
        [
         "672",
         "['shift_raw', 'PiO2(kPa)', 'SpO2(%)', 'log_PiO2', 'log_SpO2', 'SpO2_over_PiO2', 'SpO2_squared']",
         "0.9235541704446623",
         "1.8899917980675052",
         "1.0946238934566928",
         "0.009192813624451707"
        ],
        [
         "883",
         "['shift_raw', 'PiO2(kPa)', 'SpO2(%)', 'log_PiO2', 'log_SpO2', 'SpO2_over_PiO2', 'SpO2_squared', 'saturation_deficit']",
         "0.9235541704446735",
         "1.889991798067465",
         "1.094623893456711",
         "0.009192813624254207"
        ],
        [
         "743",
         "['shift_raw', 'PiO2(kPa)', 'log_PiO2', 'log_SpO2', 'SpO2_over_PiO2', 'SpO2_squared', 'saturation_deficit']",
         "0.9235541704447267",
         "1.8899917980674796",
         "1.0946238934567611",
         "0.009192813623943126"
        ],
        [
         "102",
         "['shift_raw', 'SpO2(%)', 'log_PiO2', 'saturation_deficit']",
         "0.9247801609889411",
         "1.8978275013940507",
         "1.1187922939164934",
         "0.03431619294883617"
        ],
        [
         "38",
         "['shift_raw', 'log_PiO2', 'saturation_deficit']",
         "0.9247801609889411",
         "1.89782750139405",
         "1.1187922939164934",
         "0.03431619294883236"
        ],
        [
         "20",
         "['shift_raw', 'SpO2(%)', 'log_PiO2']",
         "0.9247801609889414",
         "1.8978275013940507",
         "1.1187922939164936",
         "0.034316192948832855"
        ],
        [
         "34",
         "['shift_raw', 'log_PiO2', 'log_SpO2']",
         "0.9281286976473268",
         "1.9214474232378094",
         "1.1229537027140508",
         "0.03596677524063174"
        ],
        [
         "14",
         "['shift_raw', 'PiO2(kPa)', 'SpO2_over_PiO2']",
         "0.9289508789569578",
         "2.1308577725608955",
         "1.1317014774545608",
         "0.05778852769879929"
        ],
        [
         "411",
         "['shift_raw', 'PiO2(kPa)', 'SpO2(%)', 'log_PiO2', 'SpO2_over_PiO2', 'SpO2_squared']",
         "0.9295333651763728",
         "1.8980385539763411",
         "1.0990794380656188",
         "0.007765602003372779"
        ],
        [
         "683",
         "['shift_raw', 'PiO2(kPa)', 'SpO2(%)', 'log_PiO2', 'SpO2_over_PiO2', 'SpO2_squared', 'saturation_deficit']",
         "0.9295333651763739",
         "1.8980385539763684",
         "1.0990794380656228",
         "0.00776560200337465"
        ],
        [
         "487",
         "['shift_raw', 'PiO2(kPa)', 'log_PiO2', 'SpO2_over_PiO2', 'SpO2_squared', 'saturation_deficit']",
         "0.929533365176381",
         "1.8980385539763285",
         "1.099079438065626",
         "0.00776560200339241"
        ],
        [
         "476",
         "['shift_raw', 'PiO2(kPa)', 'log_PiO2', 'log_SpO2', 'SpO2_over_PiO2', 'SpO2_squared']",
         "0.9297247619038616",
         "1.8975127375303469",
         "1.0990791612353124",
         "0.007869520761880432"
        ],
        [
         "674",
         "['shift_raw', 'PiO2(kPa)', 'SpO2(%)', 'log_PiO2', 'log_SpO2', 'SpO2_over_PiO2', 'saturation_deficit']",
         "0.9302127056960027",
         "1.8979940180454773",
         "1.0993838268355343",
         "0.007976092224902122"
        ],
        [
         "478",
         "['shift_raw', 'PiO2(kPa)', 'log_PiO2', 'log_SpO2', 'SpO2_over_PiO2', 'saturation_deficit']",
         "0.9302127056960053",
         "1.8979940180454826",
         "1.0993838268355385",
         "0.007976092224871759"
        ],
        [
         "406",
         "['shift_raw', 'PiO2(kPa)', 'SpO2(%)', 'log_PiO2', 'log_SpO2', 'SpO2_over_PiO2']",
         "0.9302127056960099",
         "1.8979940180454935",
         "1.099383826835543",
         "0.007976092224879243"
        ],
        [
         "229",
         "['shift_raw', 'PiO2(kPa)', 'log_PiO2', 'SpO2_over_PiO2', 'SpO2_squared']",
         "0.9322746545190451",
         "1.870267400767859",
         "1.0920371547571628",
         "0.016007845941498604"
        ],
        [
         "183",
         "['shift_raw', 'PiO2(kPa)', 'SpO2(%)', 'log_PiO2', 'SpO2_over_PiO2']",
         "0.9372399328782592",
         "1.8872248603958788",
         "1.0973065795515855",
         "0.02037638602086167"
        ],
        [
         "231",
         "['shift_raw', 'PiO2(kPa)', 'log_PiO2', 'SpO2_over_PiO2', 'saturation_deficit']",
         "0.9372399328782602",
         "1.887224860395886",
         "1.0973065795515866",
         "0.020376386020864667"
        ],
        [
         "413",
         "['shift_raw', 'PiO2(kPa)', 'SpO2(%)', 'log_PiO2', 'SpO2_over_PiO2', 'saturation_deficit']",
         "0.9372399328782607",
         "1.887224860395879",
         "1.0973065795515875",
         "0.020376386020848604"
        ],
        [
         "546",
         "['shift_raw', 'SpO2(%)', 'log_PiO2', 'log_SpO2', 'SpO2_over_PiO2', 'SpO2_squared']",
         "0.939226460126128",
         "2.0768172224465995",
         "1.1221724476380084",
         "0.0067504861971505"
        ],
        [
         "799",
         "['shift_raw', 'SpO2(%)', 'log_PiO2', 'log_SpO2', 'SpO2_over_PiO2', 'SpO2_squared', 'saturation_deficit']",
         "0.9392264601262656",
         "2.0768172224473815",
         "1.122172447638215",
         "0.006750486196696217"
        ],
        [
         "617",
         "['shift_raw', 'log_PiO2', 'log_SpO2', 'SpO2_over_PiO2', 'SpO2_squared', 'saturation_deficit']",
         "0.9392264601266263",
         "2.0768172224476658",
         "1.1221724476385146",
         "0.006750486196553929"
        ]
       ],
       "shape": {
        "columns": 5,
        "rows": 1023
       }
      },
      "text/html": [
       "<div>\n",
       "<style scoped>\n",
       "    .dataframe tbody tr th:only-of-type {\n",
       "        vertical-align: middle;\n",
       "    }\n",
       "\n",
       "    .dataframe tbody tr th {\n",
       "        vertical-align: top;\n",
       "    }\n",
       "\n",
       "    .dataframe thead th {\n",
       "        text-align: right;\n",
       "    }\n",
       "</style>\n",
       "<table border=\"1\" class=\"dataframe\">\n",
       "  <thead>\n",
       "    <tr style=\"text-align: right;\">\n",
       "      <th></th>\n",
       "      <th>features</th>\n",
       "      <th>MAE</th>\n",
       "      <th>MSE</th>\n",
       "      <th>RMSE</th>\n",
       "      <th>Bias</th>\n",
       "    </tr>\n",
       "  </thead>\n",
       "  <tbody>\n",
       "    <tr>\n",
       "      <th>281</th>\n",
       "      <td>[shift_raw, SpO2(%), log_PiO2, log_SpO2, SpO2_...</td>\n",
       "      <td>0.890621</td>\n",
       "      <td>1.733317</td>\n",
       "      <td>1.081507</td>\n",
       "      <td>0.024642</td>\n",
       "    </tr>\n",
       "    <tr>\n",
       "      <th>551</th>\n",
       "      <td>[shift_raw, SpO2(%), log_PiO2, log_SpO2, SpO2_...</td>\n",
       "      <td>0.890621</td>\n",
       "      <td>1.733317</td>\n",
       "      <td>1.081507</td>\n",
       "      <td>0.024642</td>\n",
       "    </tr>\n",
       "    <tr>\n",
       "      <th>355</th>\n",
       "      <td>[shift_raw, log_PiO2, log_SpO2, SpO2_squared, ...</td>\n",
       "      <td>0.890621</td>\n",
       "      <td>1.733317</td>\n",
       "      <td>1.081507</td>\n",
       "      <td>0.024642</td>\n",
       "    </tr>\n",
       "    <tr>\n",
       "      <th>150</th>\n",
       "      <td>[shift_raw, log_PiO2, SpO2_squared, saturation...</td>\n",
       "      <td>0.891493</td>\n",
       "      <td>1.736509</td>\n",
       "      <td>1.082282</td>\n",
       "      <td>0.024563</td>\n",
       "    </tr>\n",
       "    <tr>\n",
       "      <th>100</th>\n",
       "      <td>[shift_raw, SpO2(%), log_PiO2, SpO2_squared]</td>\n",
       "      <td>0.891493</td>\n",
       "      <td>1.736509</td>\n",
       "      <td>1.082282</td>\n",
       "      <td>0.024563</td>\n",
       "    </tr>\n",
       "    <tr>\n",
       "      <th>...</th>\n",
       "      <td>...</td>\n",
       "      <td>...</td>\n",
       "      <td>...</td>\n",
       "      <td>...</td>\n",
       "      <td>...</td>\n",
       "    </tr>\n",
       "    <tr>\n",
       "      <th>16</th>\n",
       "      <td>[shift_raw, PiO2(kPa), Hb_SpO2]</td>\n",
       "      <td>1.123795</td>\n",
       "      <td>3.710883</td>\n",
       "      <td>1.312705</td>\n",
       "      <td>-0.074786</td>\n",
       "    </tr>\n",
       "    <tr>\n",
       "      <th>18</th>\n",
       "      <td>[shift_raw, PiO2(kPa), CaO2_estimate]</td>\n",
       "      <td>1.123795</td>\n",
       "      <td>3.710883</td>\n",
       "      <td>1.312705</td>\n",
       "      <td>-0.074786</td>\n",
       "    </tr>\n",
       "    <tr>\n",
       "      <th>89</th>\n",
       "      <td>[shift_raw, PiO2(kPa), Hb_SpO2, CaO2_estimate]</td>\n",
       "      <td>1.123795</td>\n",
       "      <td>3.710883</td>\n",
       "      <td>1.312705</td>\n",
       "      <td>-0.074786</td>\n",
       "    </tr>\n",
       "    <tr>\n",
       "      <th>53</th>\n",
       "      <td>[shift_raw, Hb_SpO2, CaO2_estimate]</td>\n",
       "      <td>1.123795</td>\n",
       "      <td>3.710883</td>\n",
       "      <td>1.312705</td>\n",
       "      <td>-0.074786</td>\n",
       "    </tr>\n",
       "    <tr>\n",
       "      <th>134</th>\n",
       "      <td>[shift_raw, Hb, SpO2_squared, Hb_SpO2]</td>\n",
       "      <td>1.136729</td>\n",
       "      <td>4.216834</td>\n",
       "      <td>1.383360</td>\n",
       "      <td>0.140304</td>\n",
       "    </tr>\n",
       "  </tbody>\n",
       "</table>\n",
       "<p>1023 rows × 5 columns</p>\n",
       "</div>"
      ],
      "text/plain": [
       "                                              features       MAE       MSE  \\\n",
       "281  [shift_raw, SpO2(%), log_PiO2, log_SpO2, SpO2_...  0.890621  1.733317   \n",
       "551  [shift_raw, SpO2(%), log_PiO2, log_SpO2, SpO2_...  0.890621  1.733317   \n",
       "355  [shift_raw, log_PiO2, log_SpO2, SpO2_squared, ...  0.890621  1.733317   \n",
       "150  [shift_raw, log_PiO2, SpO2_squared, saturation...  0.891493  1.736509   \n",
       "100       [shift_raw, SpO2(%), log_PiO2, SpO2_squared]  0.891493  1.736509   \n",
       "..                                                 ...       ...       ...   \n",
       "16                     [shift_raw, PiO2(kPa), Hb_SpO2]  1.123795  3.710883   \n",
       "18               [shift_raw, PiO2(kPa), CaO2_estimate]  1.123795  3.710883   \n",
       "89      [shift_raw, PiO2(kPa), Hb_SpO2, CaO2_estimate]  1.123795  3.710883   \n",
       "53                 [shift_raw, Hb_SpO2, CaO2_estimate]  1.123795  3.710883   \n",
       "134             [shift_raw, Hb, SpO2_squared, Hb_SpO2]  1.136729  4.216834   \n",
       "\n",
       "         RMSE      Bias  \n",
       "281  1.081507  0.024642  \n",
       "551  1.081507  0.024642  \n",
       "355  1.081507  0.024642  \n",
       "150  1.082282  0.024563  \n",
       "100  1.082282  0.024563  \n",
       "..        ...       ...  \n",
       "16   1.312705 -0.074786  \n",
       "18   1.312705 -0.074786  \n",
       "89   1.312705 -0.074786  \n",
       "53   1.312705 -0.074786  \n",
       "134  1.383360  0.140304  \n",
       "\n",
       "[1023 rows x 5 columns]"
      ]
     },
     "execution_count": 4,
     "metadata": {},
     "output_type": "execute_result"
    }
   ],
   "source": [
    "results_df"
   ]
  },
  {
   "cell_type": "code",
   "execution_count": 6,
   "id": "bd762a95",
   "metadata": {},
   "outputs": [],
   "source": [
    "results_df_rounded = results_df.copy()\n",
    "\n",
    "for col in results_df.columns:\n",
    "    if col != 'features':\n",
    "        results_df_rounded[col] = pd.to_numeric(results_df[col], errors='coerce').round(3)\n",
    "results_df_rounded.head(10).to_csv(RESULTS_PATH / \"linear_regression_subsets.csv\", index=False)"
   ]
  },
  {
   "cell_type": "code",
   "execution_count": 39,
   "id": "8593fce0",
   "metadata": {},
   "outputs": [
    {
     "data": {
      "text/plain": [
       "[('shift_raw', 10),\n",
       " ('log_PiO2', 7),\n",
       " ('log_SpO2', 7),\n",
       " ('SpO2_squared', 7),\n",
       " ('SpO2(%)', 6),\n",
       " ('saturation_deficit', 6),\n",
       " ('SpO2_over_PiO2', 3)]"
      ]
     },
     "execution_count": 39,
     "metadata": {},
     "output_type": "execute_result"
    }
   ],
   "source": [
    "top_n = 10\n",
    "top_features = results_df.nsmallest(top_n, 'MAE')['features']\n",
    "\n",
    "from collections import Counter\n",
    "flat_features = [f for sublist in top_features for f in sublist]\n",
    "freq_counter = Counter(flat_features)\n",
    "\n",
    "# View most frequent features in top-N models\n",
    "sorted(freq_counter.items(), key=lambda x: x[1], reverse=True)\n"
   ]
  },
  {
   "cell_type": "markdown",
   "id": "f75ab4c4",
   "metadata": {},
   "source": [
    "## Without fixed Shift_raw"
   ]
  },
  {
   "cell_type": "code",
   "execution_count": 40,
   "id": "ef815460",
   "metadata": {},
   "outputs": [],
   "source": [
    "import itertools\n",
    "import pandas as pd\n",
    "from sklearn.linear_model import LinearRegression\n",
    "\n",
    "# Ensure shift_raw and log_PiO2 are added\n",
    "def add_engineered_features(df):\n",
    "    df['log_PiO2'] = np.log(df['PiO2(kPa)'])\n",
    "    df['log_SpO2'] = np.log(df['SpO2(%)'])\n",
    "    df['SpO2_over_PiO2'] = df['SpO2(%)'] / df['PiO2(kPa)']\n",
    "    df['SpO2_squared'] = df['SpO2(%)'] ** 2\n",
    "    df['Hb_SpO2'] = df['Hb'] * df['SpO2(%)']\n",
    "    df['saturation_deficit'] = 100 - df['SpO2(%)']\n",
    "    df['CaO2_estimate'] = (1.34 * df['Hb'] * df['SpO2(%)'] / 100) + (0.0031 * df['PiO2(kPa)'])\n",
    "    df = add_shift_raw_column(df, spo2_to_po2)  # if not already present\n",
    "    return df\n",
    "\n",
    "\n",
    "train_df_engineered = add_engineered_features(train_df)\n",
    "test_df_engineered = add_engineered_features(test_df)\n",
    "\n",
    "# Always include 'shift_raw'\n",
    "base_features = ['shift_raw', 'PiO2(kPa)', 'SpO2(%)', 'Hb', 'log_PiO2', 'log_SpO2', 'SpO2_over_PiO2', \n",
    "                 'SpO2_squared', 'Hb_SpO2', 'saturation_deficit', 'CaO2_estimate']\n",
    "\n",
    "feature_combinations = list(itertools.chain.from_iterable(\n",
    "    itertools.combinations(base_features, r) for r in range(1, len(base_features) + 1)\n",
    "))\n",
    "\n",
    "\n",
    "# Evaluate each feature set\n",
    "results = []\n",
    "\n",
    "for features in feature_combinations:\n",
    "    features = list(features)\n",
    "    model = LinearRegression()\n",
    "    cv_models = fit_cv_models(train_df_engineered, features=features, target_col='shift', model_class=LinearRegression, k=10)\n",
    "    test_df_engineered['y_pred'] = predict_cv_ensemble(test_df_engineered, features, cv_models)\n",
    "\n",
    "    summary = evaluate_macro_patient_level(test_df_engineered, y_true_col='shift', y_pred_col='y_pred')\n",
    "    results.append({\n",
    "        'features': features,\n",
    "        'MAE': summary['MAE'],\n",
    "        'MSE': summary['MSE'],\n",
    "        'RMSE': summary['RMSE'],\n",
    "        'Bias': summary['Mean Bias Error']\n",
    "    })\n",
    "\n",
    "# Convert results to DataFrame for inspection\n",
    "results_df = pd.DataFrame(results).sort_values(by='MAE')\n"
   ]
  },
  {
   "cell_type": "code",
   "execution_count": 41,
   "id": "0ef6d890",
   "metadata": {},
   "outputs": [
    {
     "data": {
      "application/vnd.microsoft.datawrangler.viewer.v0+json": {
       "columns": [
        {
         "name": "index",
         "rawType": "int64",
         "type": "integer"
        },
        {
         "name": "features",
         "rawType": "object",
         "type": "unknown"
        },
        {
         "name": "MAE",
         "rawType": "float64",
         "type": "float"
        },
        {
         "name": "MSE",
         "rawType": "float64",
         "type": "float"
        },
        {
         "name": "RMSE",
         "rawType": "float64",
         "type": "float"
        },
        {
         "name": "Bias",
         "rawType": "float64",
         "type": "float"
        }
       ],
       "ref": "db2e26df-a97e-4729-ad6f-42c466071973",
       "rows": [
        [
         "531",
         "['log_PiO2', 'log_SpO2', 'SpO2_squared', 'saturation_deficit']",
         "0.8850115280494136",
         "1.6673552815848889",
         "1.0788247521155747",
         "0.0185451291197189"
        ],
        [
         "457",
         "['SpO2(%)', 'log_PiO2', 'log_SpO2', 'SpO2_squared']",
         "0.885011528050732",
         "1.6673552815954686",
         "1.0788247521181435",
         "0.018545129119052085"
        ],
        [
         "937",
         "['SpO2(%)', 'log_PiO2', 'log_SpO2', 'SpO2_squared', 'saturation_deficit']",
         "0.8850115280510488",
         "1.667355281595763",
         "1.0788247521183814",
         "0.018545129119309344"
        ],
        [
         "667",
         "['shift_raw', 'SpO2(%)', 'log_PiO2', 'log_SpO2', 'SpO2_squared']",
         "0.8906207539278178",
         "1.73331713401401",
         "1.081507066404966",
         "0.024642411923622994"
        ],
        [
         "1189",
         "['shift_raw', 'SpO2(%)', 'log_PiO2', 'log_SpO2', 'SpO2_squared', 'saturation_deficit']",
         "0.8906207539278342",
         "1.7333171340140696",
         "1.0815070664049846",
         "0.02464241192362963"
        ],
        [
         "741",
         "['shift_raw', 'log_PiO2', 'log_SpO2', 'SpO2_squared', 'saturation_deficit']",
         "0.8906207539279732",
         "1.73331713401457",
         "1.0815070664051523",
         "0.024642411923532153"
        ],
        [
         "326",
         "['shift_raw', 'log_PiO2', 'SpO2_squared', 'saturation_deficit']",
         "0.891493060785742",
         "1.7365087126833518",
         "1.0822822775515806",
         "0.024563356914759214"
        ],
        [
         "276",
         "['shift_raw', 'SpO2(%)', 'log_PiO2', 'SpO2_squared']",
         "0.8914930607857994",
         "1.736508712683362",
         "1.0822822775516323",
         "0.024563356914746832"
        ],
        [
         "676",
         "['shift_raw', 'SpO2(%)', 'log_PiO2', 'SpO2_squared', 'saturation_deficit']",
         "0.8914930607858023",
         "1.7365087126834111",
         "1.0822822775516392",
         "0.024563356914754267"
        ],
        [
         "317",
         "['shift_raw', 'log_PiO2', 'log_SpO2', 'SpO2_squared']",
         "0.892682191563776",
         "1.7404695543166544",
         "1.0832545539365734",
         "0.024334287060606568"
        ],
        [
         "156",
         "['SpO2(%)', 'log_PiO2', 'SpO2_squared']",
         "0.8938605017017182",
         "1.6746016661965213",
         "1.0862856243603638",
         "0.014063875524900576"
        ],
        [
         "466",
         "['SpO2(%)', 'log_PiO2', 'SpO2_squared', 'saturation_deficit']",
         "0.8938605017018476",
         "1.6746016661966607",
         "1.0862856243604806",
         "0.014063875524915725"
        ],
        [
         "206",
         "['log_PiO2', 'SpO2_squared', 'saturation_deficit']",
         "0.8938605017020419",
         "1.6746016661968621",
         "1.0862856243606556",
         "0.014063875524927672"
        ],
        [
         "280",
         "['shift_raw', 'SpO2(%)', 'log_SpO2', 'SpO2_over_PiO2']",
         "0.8940666910099107",
         "1.7558878887384177",
         "1.0928863139417881",
         "0.056228818317394666"
        ],
        [
         "333",
         "['shift_raw', 'log_SpO2', 'SpO2_over_PiO2', 'saturation_deficit']",
         "0.8940666910099107",
         "1.7558878887384144",
         "1.0928863139417888",
         "0.05622881831738722"
        ],
        [
         "683",
         "['shift_raw', 'SpO2(%)', 'log_SpO2', 'SpO2_over_PiO2', 'saturation_deficit']",
         "0.8940666910099122",
         "1.7558878887384146",
         "1.0928863139417901",
         "0.05622881831737461"
        ],
        [
         "331",
         "['shift_raw', 'log_SpO2', 'SpO2_over_PiO2', 'SpO2_squared']",
         "0.8940827445943879",
         "1.7572786269718284",
         "1.0931292120323264",
         "0.05653186537123736"
        ],
        [
         "274",
         "['shift_raw', 'SpO2(%)', 'log_PiO2', 'log_SpO2']",
         "0.894206893291526",
         "1.7454126046788814",
         "1.084446040717311",
         "0.024090007931952647"
        ],
        [
         "319",
         "['shift_raw', 'log_PiO2', 'log_SpO2', 'saturation_deficit']",
         "0.8942068932915301",
         "1.7454126046788847",
         "1.0844460407173144",
         "0.024090007931958136"
        ],
        [
         "669",
         "['shift_raw', 'SpO2(%)', 'log_PiO2', 'log_SpO2', 'saturation_deficit']",
         "0.8942068932915462",
         "1.745412604678853",
         "1.0844460407173258",
         "0.024090007931951207"
        ],
        [
         "342",
         "['shift_raw', 'SpO2_over_PiO2', 'SpO2_squared', 'saturation_deficit']",
         "0.8942550154764876",
         "1.7590798793112021",
         "1.093517436644741",
         "0.056804506062165916"
        ],
        [
         "692",
         "['shift_raw', 'SpO2(%)', 'SpO2_over_PiO2', 'SpO2_squared', 'saturation_deficit']",
         "0.8942550154764876",
         "1.7590798793111913",
         "1.0935174366447415",
         "0.05680450606216137"
        ],
        [
         "285",
         "['shift_raw', 'SpO2(%)', 'SpO2_over_PiO2', 'SpO2_squared']",
         "0.8942550154764878",
         "1.7590798793111635",
         "1.0935174366447384",
         "0.05680450606216366"
        ],
        [
         "197",
         "['log_PiO2', 'log_SpO2', 'SpO2_squared']",
         "0.8957889633174434",
         "1.6763864092257519",
         "1.0880459320659057",
         "0.013113487599861657"
        ],
        [
         "199",
         "['log_PiO2', 'log_SpO2', 'saturation_deficit']",
         "0.8980856209686214",
         "1.6786429437521673",
         "1.090193465677531",
         "0.011995408937750597"
        ],
        [
         "459",
         "['SpO2(%)', 'log_PiO2', 'log_SpO2', 'saturation_deficit']",
         "0.8980856209686283",
         "1.6786429437521697",
         "1.0901934656775372",
         "0.011995408937729825"
        ],
        [
         "154",
         "['SpO2(%)', 'log_PiO2', 'log_SpO2']",
         "0.8980856209686288",
         "1.678642943752177",
         "1.0901934656775363",
         "0.011995408937757685"
        ],
        [
         "91",
         "['shift_raw', 'log_PiO2', 'SpO2_over_PiO2']",
         "0.9052328521604576",
         "1.9641575487258003",
         "1.1124328270494803",
         "0.06218828567373225"
        ],
        [
         "101",
         "['shift_raw', 'SpO2_over_PiO2', 'SpO2_squared']",
         "0.9066500182375267",
         "1.8199490244700185",
         "1.1082709911462223",
         "0.058382429418559645"
        ],
        [
         "16",
         "['shift_raw', 'SpO2_over_PiO2']",
         "0.9070064596365148",
         "1.9791178111600904",
         "1.1141119221136706",
         "0.06202485485532764"
        ],
        [
         "78",
         "['shift_raw', 'SpO2(%)', 'SpO2_over_PiO2']",
         "0.9076663408966686",
         "1.826515842721402",
         "1.1094305829367619",
         "0.05855373250555686"
        ],
        [
         "103",
         "['shift_raw', 'SpO2_over_PiO2', 'saturation_deficit']",
         "0.9076663408966686",
         "1.826515842721402",
         "1.1094305829367619",
         "0.05855373250555624"
        ],
        [
         "287",
         "['shift_raw', 'SpO2(%)', 'SpO2_over_PiO2', 'saturation_deficit']",
         "0.9076663408966689",
         "1.8265158427214012",
         "1.1094305829367623",
         "0.05855373250555677"
        ],
        [
         "96",
         "['shift_raw', 'log_SpO2', 'SpO2_over_PiO2']",
         "0.908574208332882",
         "1.8334461220132587",
         "1.1105353712327182",
         "0.05876609534291841"
        ],
        [
         "757",
         "['shift_raw', 'log_SpO2', 'SpO2_over_PiO2', 'SpO2_squared', 'saturation_deficit']",
         "0.9108336060703534",
         "1.814964335656381",
         "1.1076472277810039",
         "0.048548115468542284"
        ],
        [
         "681",
         "['shift_raw', 'SpO2(%)', 'log_SpO2', 'SpO2_over_PiO2', 'SpO2_squared']",
         "0.9108336060802654",
         "1.8149643356677367",
         "1.1076472277915452",
         "0.048548115469214434"
        ],
        [
         "1205",
         "['shift_raw', 'SpO2(%)', 'log_SpO2', 'SpO2_over_PiO2', 'SpO2_squared', 'saturation_deficit']",
         "0.9108336060804635",
         "1.8149643356681073",
         "1.1076472277917437",
         "0.048548115469535795"
        ],
        [
         "1310",
         "['PiO2(kPa)', 'SpO2(%)', 'log_PiO2', 'log_SpO2', 'SpO2_over_PiO2', 'SpO2_squared']",
         "0.915615726467447",
         "1.8692062563526077",
         "1.0835519270605387",
         "0.018126068744566688"
        ],
        [
         "1731",
         "['PiO2(kPa)', 'SpO2(%)', 'log_PiO2', 'log_SpO2', 'SpO2_over_PiO2', 'SpO2_squared', 'saturation_deficit']",
         "0.9156157264674558",
         "1.8692062563526202",
         "1.0835519270605516",
         "0.01812606874439681"
        ],
        [
         "1381",
         "['PiO2(kPa)', 'log_PiO2', 'log_SpO2', 'SpO2_over_PiO2', 'SpO2_squared', 'saturation_deficit']",
         "0.9156157264675272",
         "1.8692062563533454",
         "1.0835519270607001",
         "0.01812606874440492"
        ],
        [
         "547",
         "['log_SpO2', 'SpO2_over_PiO2', 'SpO2_squared', 'saturation_deficit']",
         "0.920926101755577",
         "1.5447871179367423",
         "1.1150895543449797",
         "0.02577815122083821"
        ],
        [
         "471",
         "['SpO2(%)', 'log_SpO2', 'SpO2_over_PiO2', 'SpO2_squared']",
         "0.9209261017773063",
         "1.5447871179552881",
         "1.1150895543636914",
         "0.025778151224268537"
        ],
        [
         "953",
         "['SpO2(%)', 'log_SpO2', 'SpO2_over_PiO2', 'SpO2_squared', 'saturation_deficit']",
         "0.9209261017823615",
         "1.5447871179600374",
         "1.1150895543682244",
         "0.025778151223877412"
        ],
        [
         "1321",
         "['PiO2(kPa)', 'SpO2(%)', 'log_PiO2', 'SpO2_over_PiO2', 'SpO2_squared', 'saturation_deficit']",
         "0.9211630416281078",
         "1.8788855769266872",
         "1.0888903057536778",
         "0.015002661064625875"
        ],
        [
         "797",
         "['PiO2(kPa)', 'SpO2(%)', 'log_PiO2', 'SpO2_over_PiO2', 'SpO2_squared']",
         "0.9211630416281136",
         "1.8788855769266837",
         "1.0888903057536825",
         "0.015002661064622096"
        ],
        [
         "873",
         "['PiO2(kPa)', 'log_PiO2', 'SpO2_over_PiO2', 'SpO2_squared', 'saturation_deficit']",
         "0.9211630416283654",
         "1.8788855769281074",
         "1.0888903057539552",
         "0.015002661064590838"
        ],
        [
         "92",
         "['shift_raw', 'log_PiO2', 'SpO2_squared']",
         "0.9213242369405842",
         "1.8748428703742908",
         "1.1144505126702744",
         "0.032833072772461745"
        ],
        [
         "862",
         "['PiO2(kPa)', 'log_PiO2', 'log_SpO2', 'SpO2_over_PiO2', 'SpO2_squared']",
         "0.9220583041788223",
         "1.880117331295602",
         "1.089723725429955",
         "0.01450815563363815"
        ],
        [
         "1520",
         "['shift_raw', 'PiO2(kPa)', 'SpO2(%)', 'log_PiO2', 'log_SpO2', 'SpO2_over_PiO2', 'SpO2_squared']",
         "0.9235541704446623",
         "1.8899917980675052",
         "1.0946238934566928",
         "0.009192813624451707"
        ],
        [
         "1851",
         "['shift_raw', 'PiO2(kPa)', 'SpO2(%)', 'log_PiO2', 'log_SpO2', 'SpO2_over_PiO2', 'SpO2_squared', 'saturation_deficit']",
         "0.9235541704446735",
         "1.889991798067465",
         "1.094623893456711",
         "0.009192813624254207"
        ]
       ],
       "shape": {
        "columns": 5,
        "rows": 2047
       }
      },
      "text/html": [
       "<div>\n",
       "<style scoped>\n",
       "    .dataframe tbody tr th:only-of-type {\n",
       "        vertical-align: middle;\n",
       "    }\n",
       "\n",
       "    .dataframe tbody tr th {\n",
       "        vertical-align: top;\n",
       "    }\n",
       "\n",
       "    .dataframe thead th {\n",
       "        text-align: right;\n",
       "    }\n",
       "</style>\n",
       "<table border=\"1\" class=\"dataframe\">\n",
       "  <thead>\n",
       "    <tr style=\"text-align: right;\">\n",
       "      <th></th>\n",
       "      <th>features</th>\n",
       "      <th>MAE</th>\n",
       "      <th>MSE</th>\n",
       "      <th>RMSE</th>\n",
       "      <th>Bias</th>\n",
       "    </tr>\n",
       "  </thead>\n",
       "  <tbody>\n",
       "    <tr>\n",
       "      <th>531</th>\n",
       "      <td>[log_PiO2, log_SpO2, SpO2_squared, saturation_...</td>\n",
       "      <td>0.885012</td>\n",
       "      <td>1.667355</td>\n",
       "      <td>1.078825</td>\n",
       "      <td>0.018545</td>\n",
       "    </tr>\n",
       "    <tr>\n",
       "      <th>457</th>\n",
       "      <td>[SpO2(%), log_PiO2, log_SpO2, SpO2_squared]</td>\n",
       "      <td>0.885012</td>\n",
       "      <td>1.667355</td>\n",
       "      <td>1.078825</td>\n",
       "      <td>0.018545</td>\n",
       "    </tr>\n",
       "    <tr>\n",
       "      <th>937</th>\n",
       "      <td>[SpO2(%), log_PiO2, log_SpO2, SpO2_squared, sa...</td>\n",
       "      <td>0.885012</td>\n",
       "      <td>1.667355</td>\n",
       "      <td>1.078825</td>\n",
       "      <td>0.018545</td>\n",
       "    </tr>\n",
       "    <tr>\n",
       "      <th>667</th>\n",
       "      <td>[shift_raw, SpO2(%), log_PiO2, log_SpO2, SpO2_...</td>\n",
       "      <td>0.890621</td>\n",
       "      <td>1.733317</td>\n",
       "      <td>1.081507</td>\n",
       "      <td>0.024642</td>\n",
       "    </tr>\n",
       "    <tr>\n",
       "      <th>1189</th>\n",
       "      <td>[shift_raw, SpO2(%), log_PiO2, log_SpO2, SpO2_...</td>\n",
       "      <td>0.890621</td>\n",
       "      <td>1.733317</td>\n",
       "      <td>1.081507</td>\n",
       "      <td>0.024642</td>\n",
       "    </tr>\n",
       "    <tr>\n",
       "      <th>...</th>\n",
       "      <td>...</td>\n",
       "      <td>...</td>\n",
       "      <td>...</td>\n",
       "      <td>...</td>\n",
       "      <td>...</td>\n",
       "    </tr>\n",
       "    <tr>\n",
       "      <th>37</th>\n",
       "      <td>[SpO2(%), CaO2_estimate]</td>\n",
       "      <td>2.794557</td>\n",
       "      <td>19.905546</td>\n",
       "      <td>2.861645</td>\n",
       "      <td>0.851007</td>\n",
       "    </tr>\n",
       "    <tr>\n",
       "      <th>55</th>\n",
       "      <td>[log_SpO2, CaO2_estimate]</td>\n",
       "      <td>2.794646</td>\n",
       "      <td>19.867128</td>\n",
       "      <td>2.859377</td>\n",
       "      <td>0.848745</td>\n",
       "    </tr>\n",
       "    <tr>\n",
       "      <th>42</th>\n",
       "      <td>[Hb, Hb_SpO2]</td>\n",
       "      <td>2.803907</td>\n",
       "      <td>21.171579</td>\n",
       "      <td>2.877010</td>\n",
       "      <td>0.866026</td>\n",
       "    </tr>\n",
       "    <tr>\n",
       "      <th>44</th>\n",
       "      <td>[Hb, CaO2_estimate]</td>\n",
       "      <td>2.815700</td>\n",
       "      <td>21.306687</td>\n",
       "      <td>2.871326</td>\n",
       "      <td>0.870762</td>\n",
       "    </tr>\n",
       "    <tr>\n",
       "      <th>3</th>\n",
       "      <td>[Hb]</td>\n",
       "      <td>2.848475</td>\n",
       "      <td>21.671020</td>\n",
       "      <td>2.848475</td>\n",
       "      <td>0.877513</td>\n",
       "    </tr>\n",
       "  </tbody>\n",
       "</table>\n",
       "<p>2047 rows × 5 columns</p>\n",
       "</div>"
      ],
      "text/plain": [
       "                                               features       MAE        MSE  \\\n",
       "531   [log_PiO2, log_SpO2, SpO2_squared, saturation_...  0.885012   1.667355   \n",
       "457         [SpO2(%), log_PiO2, log_SpO2, SpO2_squared]  0.885012   1.667355   \n",
       "937   [SpO2(%), log_PiO2, log_SpO2, SpO2_squared, sa...  0.885012   1.667355   \n",
       "667   [shift_raw, SpO2(%), log_PiO2, log_SpO2, SpO2_...  0.890621   1.733317   \n",
       "1189  [shift_raw, SpO2(%), log_PiO2, log_SpO2, SpO2_...  0.890621   1.733317   \n",
       "...                                                 ...       ...        ...   \n",
       "37                             [SpO2(%), CaO2_estimate]  2.794557  19.905546   \n",
       "55                            [log_SpO2, CaO2_estimate]  2.794646  19.867128   \n",
       "42                                        [Hb, Hb_SpO2]  2.803907  21.171579   \n",
       "44                                  [Hb, CaO2_estimate]  2.815700  21.306687   \n",
       "3                                                  [Hb]  2.848475  21.671020   \n",
       "\n",
       "          RMSE      Bias  \n",
       "531   1.078825  0.018545  \n",
       "457   1.078825  0.018545  \n",
       "937   1.078825  0.018545  \n",
       "667   1.081507  0.024642  \n",
       "1189  1.081507  0.024642  \n",
       "...        ...       ...  \n",
       "37    2.861645  0.851007  \n",
       "55    2.859377  0.848745  \n",
       "42    2.877010  0.866026  \n",
       "44    2.871326  0.870762  \n",
       "3     2.848475  0.877513  \n",
       "\n",
       "[2047 rows x 5 columns]"
      ]
     },
     "execution_count": 41,
     "metadata": {},
     "output_type": "execute_result"
    }
   ],
   "source": [
    "results_df"
   ]
  },
  {
   "cell_type": "code",
   "execution_count": 42,
   "id": "01054a89",
   "metadata": {},
   "outputs": [
    {
     "data": {
      "text/plain": [
       "[('log_PiO2', 10),\n",
       " ('SpO2_squared', 10),\n",
       " ('log_SpO2', 7),\n",
       " ('shift_raw', 7),\n",
       " ('saturation_deficit', 6),\n",
       " ('SpO2(%)', 6)]"
      ]
     },
     "execution_count": 42,
     "metadata": {},
     "output_type": "execute_result"
    }
   ],
   "source": [
    "top_n = 10\n",
    "top_features = results_df.nsmallest(top_n, 'MAE')['features']\n",
    "\n",
    "from collections import Counter\n",
    "flat_features = [f for sublist in top_features for f in sublist]\n",
    "freq_counter = Counter(flat_features)\n",
    "\n",
    "# View most frequent features in top-N models\n",
    "sorted(freq_counter.items(), key=lambda x: x[1], reverse=True)\n"
   ]
  },
  {
   "cell_type": "markdown",
   "id": "c77a561a",
   "metadata": {},
   "source": [
    "## Simplistic Feature Selection"
   ]
  },
  {
   "cell_type": "code",
   "execution_count": 43,
   "id": "b2491dff",
   "metadata": {},
   "outputs": [],
   "source": [
    "import itertools\n",
    "import pandas as pd\n",
    "from sklearn.linear_model import LinearRegression\n",
    "\n",
    "\n",
    "# Ensure shift_raw and log_PiO2 are added\n",
    "def add_engineered_features(df):\n",
    "    df['log_PiO2'] = np.log(df['PiO2(kPa)'])\n",
    "    df['log_SpO2'] = np.log(df['SpO2(%)'])\n",
    "    df = add_shift_raw_column(df, spo2_to_po2)  # your existing function\n",
    "    return df\n",
    "\n",
    "train_df_engineered = add_engineered_features(train_df)\n",
    "test_df_engineered = add_engineered_features(test_df)\n",
    "\n",
    "# Feature sets to evaluate\n",
    "base_features = ['PiO2(kPa)', 'SpO2(%)', 'Hb', 'shift_raw', 'log_PiO2']\n",
    "feature_combinations = list(itertools.chain.from_iterable(\n",
    "    itertools.combinations(base_features, r) for r in range(1, len(base_features) + 1)\n",
    "))\n",
    "\n",
    "# Evaluate each feature set\n",
    "results = []\n",
    "\n",
    "for features in feature_combinations:\n",
    "    features = list(features)\n",
    "    model = LinearRegression()\n",
    "    cv_models = fit_cv_models(train_df_engineered, features=features, target_col='shift', model_class=LinearRegression, k=10)\n",
    "    test_df_engineered['y_pred'] = predict_cv_ensemble(test_df_engineered, features, cv_models)\n",
    "\n",
    "    summary = evaluate_macro_patient_level(test_df_engineered, y_true_col='shift', y_pred_col='y_pred')\n",
    "    results.append({\n",
    "        'features': features,\n",
    "        'MAE': summary['MAE'],\n",
    "        'RMSE': summary['RMSE'],\n",
    "        'Mean Bias Error': summary['Mean Bias Error']\n",
    "    })\n",
    "\n",
    "\n",
    "results_df = pd.DataFrame(results).sort_values(by='MAE')\n"
   ]
  },
  {
   "cell_type": "code",
   "execution_count": 44,
   "id": "81d1a6d8",
   "metadata": {},
   "outputs": [
    {
     "data": {
      "application/vnd.microsoft.datawrangler.viewer.v0+json": {
       "columns": [
        {
         "name": "index",
         "rawType": "int64",
         "type": "integer"
        },
        {
         "name": "features",
         "rawType": "object",
         "type": "unknown"
        },
        {
         "name": "MAE",
         "rawType": "float64",
         "type": "float"
        },
        {
         "name": "RMSE",
         "rawType": "float64",
         "type": "float"
        },
        {
         "name": "Mean Bias Error",
         "rawType": "float64",
         "type": "float"
        }
       ],
       "ref": "9d82b661-d9c0-4795-855a-6aa4db9c4f52",
       "rows": [
        [
         "23",
         "['SpO2(%)', 'shift_raw', 'log_PiO2']",
         "0.9247801609889414",
         "1.1187922939164936",
         "0.034316192948832924"
        ],
        [
         "27",
         "['PiO2(kPa)', 'SpO2(%)', 'shift_raw', 'log_PiO2']",
         "0.9665740433042425",
         "1.1632262532036894",
         "0.02577567009683213"
        ],
        [
         "14",
         "['shift_raw', 'log_PiO2']",
         "0.9723586527616027",
         "1.1755469374703627",
         "0.07045646988099692"
        ],
        [
         "11",
         "['SpO2(%)', 'log_PiO2']",
         "0.9726493989003696",
         "1.1731080437436512",
         "0.003463507056082681"
        ],
        [
         "20",
         "['PiO2(kPa)', 'shift_raw', 'log_PiO2']",
         "0.9872938102286493",
         "1.1863224508260055",
         "0.06862326271060384"
        ],
        [
         "17",
         "['PiO2(kPa)', 'SpO2(%)', 'log_PiO2']",
         "1.0102116065435869",
         "1.214645884414354",
         "0.006204756942777889"
        ],
        [
         "29",
         "['SpO2(%)', 'Hb', 'shift_raw', 'log_PiO2']",
         "1.0118529358478348",
         "1.2100728865259407",
         "-0.08673840305346349"
        ],
        [
         "24",
         "['Hb', 'shift_raw', 'log_PiO2']",
         "1.0128032328662944",
         "1.2169010529958462",
         "0.013944158057511877"
        ],
        [
         "7",
         "['PiO2(kPa)', 'shift_raw']",
         "1.0154177844936076",
         "1.206205993095112",
         "0.06872283183027306"
        ],
        [
         "16",
         "['PiO2(kPa)', 'SpO2(%)', 'shift_raw']",
         "1.0166710611638343",
         "1.2123574663333008",
         "0.028072879417057557"
        ],
        [
         "28",
         "['PiO2(kPa)', 'Hb', 'shift_raw', 'log_PiO2']",
         "1.0199479852221875",
         "1.2205098625923778",
         "0.02007055236651271"
        ],
        [
         "30",
         "['PiO2(kPa)', 'SpO2(%)', 'Hb', 'shift_raw', 'log_PiO2']",
         "1.0344505708886431",
         "1.2338126049786151",
         "-0.07214152790365602"
        ],
        [
         "18",
         "['PiO2(kPa)', 'Hb', 'shift_raw']",
         "1.0358933514881419",
         "1.2282496557310274",
         "0.03743694559545478"
        ],
        [
         "10",
         "['SpO2(%)', 'shift_raw']",
         "1.0378559720548426",
         "1.2443482746200958",
         "0.1190937379233122"
        ],
        [
         "3",
         "['shift_raw']",
         "1.0443365093923374",
         "1.252082609420495",
         "0.12108135393789055"
        ],
        [
         "5",
         "['PiO2(kPa)', 'SpO2(%)']",
         "1.0494405509819575",
         "1.2560054859268592",
         "0.00976486534891216"
        ],
        [
         "22",
         "['SpO2(%)', 'Hb', 'log_PiO2']",
         "1.058979827652877",
         "1.2631125691943055",
         "-0.11831522816406238"
        ],
        [
         "25",
         "['PiO2(kPa)', 'SpO2(%)', 'Hb', 'shift_raw']",
         "1.0616275179725971",
         "1.2593884661028425",
         "-0.03616498782779066"
        ],
        [
         "21",
         "['SpO2(%)', 'Hb', 'shift_raw']",
         "1.065614892057976",
         "1.2726920595589664",
         "0.07879429725443386"
        ],
        [
         "26",
         "['PiO2(kPa)', 'SpO2(%)', 'Hb', 'log_PiO2']",
         "1.0732314571984045",
         "1.2763757098857582",
         "-0.07999323142418378"
        ],
        [
         "12",
         "['Hb', 'shift_raw']",
         "1.0757270661500746",
         "1.2829629209184747",
         "0.0771400867087322"
        ],
        [
         "15",
         "['PiO2(kPa)', 'SpO2(%)', 'Hb']",
         "1.089629208661813",
         "1.2962927397658606",
         "-0.04581719781365978"
        ],
        [
         "0",
         "['PiO2(kPa)']",
         "1.380473396024597",
         "1.6092382089223836",
         "-0.005952718395715217"
        ],
        [
         "8",
         "['PiO2(kPa)', 'log_PiO2']",
         "1.3832196969186867",
         "1.6057136319554242",
         "-0.002159765090170347"
        ],
        [
         "6",
         "['PiO2(kPa)', 'Hb']",
         "1.3847881140562248",
         "1.6168978642089655",
         "0.10866584979617082"
        ],
        [
         "19",
         "['PiO2(kPa)', 'Hb', 'log_PiO2']",
         "1.3964644851687176",
         "1.6193516344826133",
         "0.13029224354006444"
        ],
        [
         "4",
         "['log_PiO2']",
         "1.405708273896183",
         "1.6482412512740032",
         "-0.009683659943345937"
        ],
        [
         "13",
         "['Hb', 'log_PiO2']",
         "1.4087963140075606",
         "1.6531071265159425",
         "0.08488116966692617"
        ],
        [
         "1",
         "['SpO2(%)']",
         "2.42104459544032",
         "2.512015074553863",
         "0.17913132203891502"
        ],
        [
         "9",
         "['SpO2(%)', 'Hb']",
         "2.783501756297131",
         "2.8523878883593654",
         "0.8387282775665891"
        ],
        [
         "2",
         "['Hb']",
         "2.848475168606496",
         "2.848475168606496",
         "0.8775126122641329"
        ]
       ],
       "shape": {
        "columns": 4,
        "rows": 31
       }
      },
      "text/html": [
       "<div>\n",
       "<style scoped>\n",
       "    .dataframe tbody tr th:only-of-type {\n",
       "        vertical-align: middle;\n",
       "    }\n",
       "\n",
       "    .dataframe tbody tr th {\n",
       "        vertical-align: top;\n",
       "    }\n",
       "\n",
       "    .dataframe thead th {\n",
       "        text-align: right;\n",
       "    }\n",
       "</style>\n",
       "<table border=\"1\" class=\"dataframe\">\n",
       "  <thead>\n",
       "    <tr style=\"text-align: right;\">\n",
       "      <th></th>\n",
       "      <th>features</th>\n",
       "      <th>MAE</th>\n",
       "      <th>RMSE</th>\n",
       "      <th>Mean Bias Error</th>\n",
       "    </tr>\n",
       "  </thead>\n",
       "  <tbody>\n",
       "    <tr>\n",
       "      <th>23</th>\n",
       "      <td>[SpO2(%), shift_raw, log_PiO2]</td>\n",
       "      <td>0.924780</td>\n",
       "      <td>1.118792</td>\n",
       "      <td>0.034316</td>\n",
       "    </tr>\n",
       "    <tr>\n",
       "      <th>27</th>\n",
       "      <td>[PiO2(kPa), SpO2(%), shift_raw, log_PiO2]</td>\n",
       "      <td>0.966574</td>\n",
       "      <td>1.163226</td>\n",
       "      <td>0.025776</td>\n",
       "    </tr>\n",
       "    <tr>\n",
       "      <th>14</th>\n",
       "      <td>[shift_raw, log_PiO2]</td>\n",
       "      <td>0.972359</td>\n",
       "      <td>1.175547</td>\n",
       "      <td>0.070456</td>\n",
       "    </tr>\n",
       "    <tr>\n",
       "      <th>11</th>\n",
       "      <td>[SpO2(%), log_PiO2]</td>\n",
       "      <td>0.972649</td>\n",
       "      <td>1.173108</td>\n",
       "      <td>0.003464</td>\n",
       "    </tr>\n",
       "    <tr>\n",
       "      <th>20</th>\n",
       "      <td>[PiO2(kPa), shift_raw, log_PiO2]</td>\n",
       "      <td>0.987294</td>\n",
       "      <td>1.186322</td>\n",
       "      <td>0.068623</td>\n",
       "    </tr>\n",
       "    <tr>\n",
       "      <th>17</th>\n",
       "      <td>[PiO2(kPa), SpO2(%), log_PiO2]</td>\n",
       "      <td>1.010212</td>\n",
       "      <td>1.214646</td>\n",
       "      <td>0.006205</td>\n",
       "    </tr>\n",
       "    <tr>\n",
       "      <th>29</th>\n",
       "      <td>[SpO2(%), Hb, shift_raw, log_PiO2]</td>\n",
       "      <td>1.011853</td>\n",
       "      <td>1.210073</td>\n",
       "      <td>-0.086738</td>\n",
       "    </tr>\n",
       "    <tr>\n",
       "      <th>24</th>\n",
       "      <td>[Hb, shift_raw, log_PiO2]</td>\n",
       "      <td>1.012803</td>\n",
       "      <td>1.216901</td>\n",
       "      <td>0.013944</td>\n",
       "    </tr>\n",
       "    <tr>\n",
       "      <th>7</th>\n",
       "      <td>[PiO2(kPa), shift_raw]</td>\n",
       "      <td>1.015418</td>\n",
       "      <td>1.206206</td>\n",
       "      <td>0.068723</td>\n",
       "    </tr>\n",
       "    <tr>\n",
       "      <th>16</th>\n",
       "      <td>[PiO2(kPa), SpO2(%), shift_raw]</td>\n",
       "      <td>1.016671</td>\n",
       "      <td>1.212357</td>\n",
       "      <td>0.028073</td>\n",
       "    </tr>\n",
       "    <tr>\n",
       "      <th>28</th>\n",
       "      <td>[PiO2(kPa), Hb, shift_raw, log_PiO2]</td>\n",
       "      <td>1.019948</td>\n",
       "      <td>1.220510</td>\n",
       "      <td>0.020071</td>\n",
       "    </tr>\n",
       "    <tr>\n",
       "      <th>30</th>\n",
       "      <td>[PiO2(kPa), SpO2(%), Hb, shift_raw, log_PiO2]</td>\n",
       "      <td>1.034451</td>\n",
       "      <td>1.233813</td>\n",
       "      <td>-0.072142</td>\n",
       "    </tr>\n",
       "    <tr>\n",
       "      <th>18</th>\n",
       "      <td>[PiO2(kPa), Hb, shift_raw]</td>\n",
       "      <td>1.035893</td>\n",
       "      <td>1.228250</td>\n",
       "      <td>0.037437</td>\n",
       "    </tr>\n",
       "    <tr>\n",
       "      <th>10</th>\n",
       "      <td>[SpO2(%), shift_raw]</td>\n",
       "      <td>1.037856</td>\n",
       "      <td>1.244348</td>\n",
       "      <td>0.119094</td>\n",
       "    </tr>\n",
       "    <tr>\n",
       "      <th>3</th>\n",
       "      <td>[shift_raw]</td>\n",
       "      <td>1.044337</td>\n",
       "      <td>1.252083</td>\n",
       "      <td>0.121081</td>\n",
       "    </tr>\n",
       "    <tr>\n",
       "      <th>5</th>\n",
       "      <td>[PiO2(kPa), SpO2(%)]</td>\n",
       "      <td>1.049441</td>\n",
       "      <td>1.256005</td>\n",
       "      <td>0.009765</td>\n",
       "    </tr>\n",
       "    <tr>\n",
       "      <th>22</th>\n",
       "      <td>[SpO2(%), Hb, log_PiO2]</td>\n",
       "      <td>1.058980</td>\n",
       "      <td>1.263113</td>\n",
       "      <td>-0.118315</td>\n",
       "    </tr>\n",
       "    <tr>\n",
       "      <th>25</th>\n",
       "      <td>[PiO2(kPa), SpO2(%), Hb, shift_raw]</td>\n",
       "      <td>1.061628</td>\n",
       "      <td>1.259388</td>\n",
       "      <td>-0.036165</td>\n",
       "    </tr>\n",
       "    <tr>\n",
       "      <th>21</th>\n",
       "      <td>[SpO2(%), Hb, shift_raw]</td>\n",
       "      <td>1.065615</td>\n",
       "      <td>1.272692</td>\n",
       "      <td>0.078794</td>\n",
       "    </tr>\n",
       "    <tr>\n",
       "      <th>26</th>\n",
       "      <td>[PiO2(kPa), SpO2(%), Hb, log_PiO2]</td>\n",
       "      <td>1.073231</td>\n",
       "      <td>1.276376</td>\n",
       "      <td>-0.079993</td>\n",
       "    </tr>\n",
       "    <tr>\n",
       "      <th>12</th>\n",
       "      <td>[Hb, shift_raw]</td>\n",
       "      <td>1.075727</td>\n",
       "      <td>1.282963</td>\n",
       "      <td>0.077140</td>\n",
       "    </tr>\n",
       "    <tr>\n",
       "      <th>15</th>\n",
       "      <td>[PiO2(kPa), SpO2(%), Hb]</td>\n",
       "      <td>1.089629</td>\n",
       "      <td>1.296293</td>\n",
       "      <td>-0.045817</td>\n",
       "    </tr>\n",
       "    <tr>\n",
       "      <th>0</th>\n",
       "      <td>[PiO2(kPa)]</td>\n",
       "      <td>1.380473</td>\n",
       "      <td>1.609238</td>\n",
       "      <td>-0.005953</td>\n",
       "    </tr>\n",
       "    <tr>\n",
       "      <th>8</th>\n",
       "      <td>[PiO2(kPa), log_PiO2]</td>\n",
       "      <td>1.383220</td>\n",
       "      <td>1.605714</td>\n",
       "      <td>-0.002160</td>\n",
       "    </tr>\n",
       "    <tr>\n",
       "      <th>6</th>\n",
       "      <td>[PiO2(kPa), Hb]</td>\n",
       "      <td>1.384788</td>\n",
       "      <td>1.616898</td>\n",
       "      <td>0.108666</td>\n",
       "    </tr>\n",
       "    <tr>\n",
       "      <th>19</th>\n",
       "      <td>[PiO2(kPa), Hb, log_PiO2]</td>\n",
       "      <td>1.396464</td>\n",
       "      <td>1.619352</td>\n",
       "      <td>0.130292</td>\n",
       "    </tr>\n",
       "    <tr>\n",
       "      <th>4</th>\n",
       "      <td>[log_PiO2]</td>\n",
       "      <td>1.405708</td>\n",
       "      <td>1.648241</td>\n",
       "      <td>-0.009684</td>\n",
       "    </tr>\n",
       "    <tr>\n",
       "      <th>13</th>\n",
       "      <td>[Hb, log_PiO2]</td>\n",
       "      <td>1.408796</td>\n",
       "      <td>1.653107</td>\n",
       "      <td>0.084881</td>\n",
       "    </tr>\n",
       "    <tr>\n",
       "      <th>1</th>\n",
       "      <td>[SpO2(%)]</td>\n",
       "      <td>2.421045</td>\n",
       "      <td>2.512015</td>\n",
       "      <td>0.179131</td>\n",
       "    </tr>\n",
       "    <tr>\n",
       "      <th>9</th>\n",
       "      <td>[SpO2(%), Hb]</td>\n",
       "      <td>2.783502</td>\n",
       "      <td>2.852388</td>\n",
       "      <td>0.838728</td>\n",
       "    </tr>\n",
       "    <tr>\n",
       "      <th>2</th>\n",
       "      <td>[Hb]</td>\n",
       "      <td>2.848475</td>\n",
       "      <td>2.848475</td>\n",
       "      <td>0.877513</td>\n",
       "    </tr>\n",
       "  </tbody>\n",
       "</table>\n",
       "</div>"
      ],
      "text/plain": [
       "                                         features       MAE      RMSE  \\\n",
       "23                 [SpO2(%), shift_raw, log_PiO2]  0.924780  1.118792   \n",
       "27      [PiO2(kPa), SpO2(%), shift_raw, log_PiO2]  0.966574  1.163226   \n",
       "14                          [shift_raw, log_PiO2]  0.972359  1.175547   \n",
       "11                            [SpO2(%), log_PiO2]  0.972649  1.173108   \n",
       "20               [PiO2(kPa), shift_raw, log_PiO2]  0.987294  1.186322   \n",
       "17                 [PiO2(kPa), SpO2(%), log_PiO2]  1.010212  1.214646   \n",
       "29             [SpO2(%), Hb, shift_raw, log_PiO2]  1.011853  1.210073   \n",
       "24                      [Hb, shift_raw, log_PiO2]  1.012803  1.216901   \n",
       "7                          [PiO2(kPa), shift_raw]  1.015418  1.206206   \n",
       "16                [PiO2(kPa), SpO2(%), shift_raw]  1.016671  1.212357   \n",
       "28           [PiO2(kPa), Hb, shift_raw, log_PiO2]  1.019948  1.220510   \n",
       "30  [PiO2(kPa), SpO2(%), Hb, shift_raw, log_PiO2]  1.034451  1.233813   \n",
       "18                     [PiO2(kPa), Hb, shift_raw]  1.035893  1.228250   \n",
       "10                           [SpO2(%), shift_raw]  1.037856  1.244348   \n",
       "3                                     [shift_raw]  1.044337  1.252083   \n",
       "5                            [PiO2(kPa), SpO2(%)]  1.049441  1.256005   \n",
       "22                        [SpO2(%), Hb, log_PiO2]  1.058980  1.263113   \n",
       "25            [PiO2(kPa), SpO2(%), Hb, shift_raw]  1.061628  1.259388   \n",
       "21                       [SpO2(%), Hb, shift_raw]  1.065615  1.272692   \n",
       "26             [PiO2(kPa), SpO2(%), Hb, log_PiO2]  1.073231  1.276376   \n",
       "12                                [Hb, shift_raw]  1.075727  1.282963   \n",
       "15                       [PiO2(kPa), SpO2(%), Hb]  1.089629  1.296293   \n",
       "0                                     [PiO2(kPa)]  1.380473  1.609238   \n",
       "8                           [PiO2(kPa), log_PiO2]  1.383220  1.605714   \n",
       "6                                 [PiO2(kPa), Hb]  1.384788  1.616898   \n",
       "19                      [PiO2(kPa), Hb, log_PiO2]  1.396464  1.619352   \n",
       "4                                      [log_PiO2]  1.405708  1.648241   \n",
       "13                                 [Hb, log_PiO2]  1.408796  1.653107   \n",
       "1                                       [SpO2(%)]  2.421045  2.512015   \n",
       "9                                   [SpO2(%), Hb]  2.783502  2.852388   \n",
       "2                                            [Hb]  2.848475  2.848475   \n",
       "\n",
       "    Mean Bias Error  \n",
       "23         0.034316  \n",
       "27         0.025776  \n",
       "14         0.070456  \n",
       "11         0.003464  \n",
       "20         0.068623  \n",
       "17         0.006205  \n",
       "29        -0.086738  \n",
       "24         0.013944  \n",
       "7          0.068723  \n",
       "16         0.028073  \n",
       "28         0.020071  \n",
       "30        -0.072142  \n",
       "18         0.037437  \n",
       "10         0.119094  \n",
       "3          0.121081  \n",
       "5          0.009765  \n",
       "22        -0.118315  \n",
       "25        -0.036165  \n",
       "21         0.078794  \n",
       "26        -0.079993  \n",
       "12         0.077140  \n",
       "15        -0.045817  \n",
       "0         -0.005953  \n",
       "8         -0.002160  \n",
       "6          0.108666  \n",
       "19         0.130292  \n",
       "4         -0.009684  \n",
       "13         0.084881  \n",
       "1          0.179131  \n",
       "9          0.838728  \n",
       "2          0.877513  "
      ]
     },
     "execution_count": 44,
     "metadata": {},
     "output_type": "execute_result"
    }
   ],
   "source": [
    "results_df"
   ]
  }
 ],
 "metadata": {
  "kernelspec": {
   "display_name": "MasterThesis",
   "language": "python",
   "name": "python3"
  },
  "language_info": {
   "codemirror_mode": {
    "name": "ipython",
    "version": 3
   },
   "file_extension": ".py",
   "mimetype": "text/x-python",
   "name": "python",
   "nbconvert_exporter": "python",
   "pygments_lexer": "ipython3",
   "version": "3.10.13"
  }
 },
 "nbformat": 4,
 "nbformat_minor": 5
}
