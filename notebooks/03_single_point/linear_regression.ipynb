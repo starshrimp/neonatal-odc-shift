{
 "cells": [
  {
   "cell_type": "code",
   "execution_count": null,
   "id": "e1874b96",
   "metadata": {},
   "outputs": [],
   "source": [
    "import os\n",
    "from dotenv import load_dotenv\n",
    "from pathlib import Path\n",
    "\n",
    "ROOT = Path(os.getcwd()).parents[1] \n",
    "load_dotenv(ROOT / \".env\")\n",
    "\n",
    "# -------------------- Paths --------------------\n",
    "TRAIN_PATH = Path(ROOT / os.getenv(\"TRAIN_PATH\"))\n",
    "TEST_PATH  = Path(ROOT / os.getenv(\"TEST_PATH\"))\n",
    "ODC_PATH   = Path(ROOT / os.getenv(\"ODC_PATH\"))\n",
    "\n"
   ]
  }
 ],
 "metadata": {
  "language_info": {
   "name": "python"
  }
 },
 "nbformat": 4,
 "nbformat_minor": 5
}
