{
 "cells": [
  {
   "cell_type": "code",
   "execution_count": null,
   "id": "ecff810c",
   "metadata": {},
   "outputs": [],
   "source": [
    "import sys\n",
    "from pathlib import Path\n",
    "\n",
    "# two levels up from the notebook to project root, then append to sys.path\n",
    "sys.path.append(str(Path().resolve().parents[1]))\n",
    "\n",
    "from utils.data_loading import load_datasets\n",
    "from utils.data_preparation import get_spo2_to_po2_interpolator, add_shift_raw_column\n",
    "from utils.evaluation import evaluate_macro_patient_level, print_evaluation\n",
    "from utils.modeling import fit_cv_models, predict_cv_ensemble\n",
    "\n",
    "\n",
    "train_df, test_df, odc = load_datasets()\n",
    "spo2_to_po2 = get_spo2_to_po2_interpolator(odc)\n",
    "\n",
    "train_df = add_shift_raw_column(train_df, spo2_to_po2)\n",
    "test_df  = add_shift_raw_column(test_df, spo2_to_po2)"
   ]
  },
  {
   "cell_type": "code",
   "execution_count": 11,
   "id": "d215a028",
   "metadata": {},
   "outputs": [
    {
     "name": "stdout",
     "output_type": "stream",
     "text": [
      "Macro-averaged per-patient metrics:\n",
      "MAE  = 0.804\n",
      "MSE  = 1.404\n",
      "RMSE = 0.948\n",
      "Bias = 0.047\n"
     ]
    }
   ],
   "source": [
    "test_df  = test_df[test_df['SpO2(%)'] < 95].copy()\n",
    "\n",
    "# Create log feature\n",
    "train_df['log_PiO2'] = np.log(train_df['Insp.O2(kPa)'])\n",
    "test_df['log_PiO2'] = np.log(test_df['Insp.O2(kPa)'])\n",
    "\n",
    "# ===============================================================\n",
    "\n",
    "features = ['shift_raw', 'log_PiO2', 'SpO2(%)']\n",
    "\n",
    "# Train ensemble of CV models\n",
    "cv_models = fit_cv_models(\n",
    "    train_df,\n",
    "    features=features,\n",
    "    target_col='shift',\n",
    "    model_class=LinearRegression,\n",
    "    k=10\n",
    ")\n",
    "\n",
    "# Predict on test set (average over CV models)\n",
    "test_df['y_pred'] = predict_cv_ensemble(test_df, features, cv_models)\n",
    "\n",
    "# Evaluate macro-averaged patient metrics\n",
    "summary = evaluate_macro_patient_level(test_df, y_true_col='shift', y_pred_col='y_pred')\n",
    "print_evaluation(summary)\n"
   ]
  }
 ],
 "metadata": {
  "kernelspec": {
   "display_name": "MasterThesis",
   "language": "python",
   "name": "python3"
  },
  "language_info": {
   "codemirror_mode": {
    "name": "ipython",
    "version": 3
   },
   "file_extension": ".py",
   "mimetype": "text/x-python",
   "name": "python",
   "nbconvert_exporter": "python",
   "pygments_lexer": "ipython3",
   "version": "3.10.13"
  }
 },
 "nbformat": 4,
 "nbformat_minor": 5
}
