{
 "cells": [
  {
   "cell_type": "code",
   "execution_count": 3,
   "id": "d76fd52e",
   "metadata": {},
   "outputs": [
    {
     "name": "stdout",
     "output_type": "stream",
     "text": [
      "Test Set Performance:\n",
      "                          Model    MAE    MSE   RMSE  Mean Bias Error  \\\n",
      "0   Linear Regression Baseline  1.049  2.769  1.256            0.010   \n",
      "1  Optimized Linear Regression  0.626  1.357  0.722            0.141   \n",
      "2   Baseline XGBoost Regressor  0.922  2.331  1.122            0.039   \n",
      "3  XBoost Regressor Configured  0.636  1.290  0.728            0.103   \n",
      "4   Final Bayesian Ridge Model  0.647  1.517  0.748            0.146   \n",
      "\n",
      "   MAPE (%)  nRMSE (%)  \n",
      "0     9.853      6.678  \n",
      "1     5.916      4.214  \n",
      "2     8.718      5.967  \n",
      "3     6.034      4.246  \n",
      "4     6.119      4.364  \n",
      "\n",
      "Validation Set Performance:\n",
      "                          Model    MAE    MSE   RMSE  Mean Bias Error  \\\n",
      "0   Linear Regression Baseline  1.225  3.936  1.528            0.277   \n",
      "1  Optimized Linear Regression  0.490  0.623  0.534            0.009   \n",
      "2   Baseline XGBoost Regressor  0.978  2.656  1.189           -0.058   \n",
      "3  XBoost Regressor Configured  0.560  0.838  0.594           -0.074   \n",
      "4   Final Bayesian Ridge Model  0.509  0.652  0.549            0.006   \n",
      "\n",
      "   MAPE (%)  nRMSE (%)  \n",
      "0    10.096      7.835  \n",
      "1     4.118      2.740  \n",
      "2     7.894      6.098  \n",
      "3     4.380      3.044  \n",
      "4     4.323      2.816  \n"
     ]
    }
   ],
   "source": [
    "import sys\n",
    "import json\n",
    "import pandas as pd\n",
    "from pathlib import Path\n",
    "\n",
    "\n",
    "sys.path.append(str(Path().resolve().parents[1]))\n",
    "\n",
    "PROJECT_ROOT = Path().resolve().parents[1]\n",
    "RESULTS_PATH = PROJECT_ROOT / \"results\"\n",
    "\n",
    "MODEL_PATH = RESULTS_PATH / \"single_point_model_metrics_log.json\"\n",
    "\n",
    "with open(MODEL_PATH, \"r\") as f:\n",
    "    model_logs = json.load(f)\n",
    "\n",
    "# Filter out runs 2 and 3\n",
    "filtered_models = [m for m in model_logs if m[\"run\"] not in [2, 3]]\n",
    "\n",
    "# Helper function to extract a row for a specific dataset (test or validation)\n",
    "def extract_metrics_row(model, dataset):\n",
    "    metrics = model[\"metrics\"][dataset]\n",
    "    return {\n",
    "        \"Model\": model[\"id\"],\n",
    "        \"MAE\": round(metrics[\"MAE\"], 3),\n",
    "        \"MSE\": round(metrics[\"MSE\"], 3),\n",
    "        \"RMSE\": round(metrics[\"RMSE\"], 3),\n",
    "        \"Mean Bias Error\": round(metrics[\"Mean Bias Error\"], 3),\n",
    "        \"MAPE (%)\": round(metrics[\"MAPE\"], 3),\n",
    "        \"nRMSE (%)\": round(metrics[\"nRMSE\"], 3),\n",
    "    }\n",
    "\n",
    "# Build test and validation tables\n",
    "test_rows = [extract_metrics_row(m, \"test\") for m in filtered_models]\n",
    "val_rows = [extract_metrics_row(m, \"validation\") for m in filtered_models]\n",
    "\n",
    "# Convert to DataFrames\n",
    "test_df = pd.DataFrame(test_rows)\n",
    "val_df = pd.DataFrame(val_rows)\n",
    "\n",
    "# Export to CSV\n",
    "test_df.to_csv(RESULTS_PATH / \"model_comparison_test.csv\", index=False)\n",
    "val_df.to_csv(RESULTS_PATH / \"model_comparison_validation.csv\", index=False)\n",
    "\n",
    "# Optional: preview\n",
    "print(\"Test Set Performance:\\n\", test_df)\n",
    "print(\"\\nValidation Set Performance:\\n\", val_df)\n"
   ]
  }
 ],
 "metadata": {
  "kernelspec": {
   "display_name": "MasterThesis",
   "language": "python",
   "name": "python3"
  },
  "language_info": {
   "codemirror_mode": {
    "name": "ipython",
    "version": 3
   },
   "file_extension": ".py",
   "mimetype": "text/x-python",
   "name": "python",
   "nbconvert_exporter": "python",
   "pygments_lexer": "ipython3",
   "version": "3.10.13"
  }
 },
 "nbformat": 4,
 "nbformat_minor": 5
}
