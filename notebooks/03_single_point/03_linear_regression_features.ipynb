{
 "cells": [
  {
   "cell_type": "markdown",
   "id": "63e4ce4e",
   "metadata": {},
   "source": [
    "# Baseline Linear Regression"
   ]
  },
  {
   "cell_type": "code",
   "execution_count": 3,
   "id": "ecff810c",
   "metadata": {},
   "outputs": [],
   "source": [
    "import sys\n",
    "import pandas as pd\n",
    "import numpy as np\n",
    "import matplotlib.pyplot as plt\n",
    "from pathlib import Path\n",
    "\n",
    "# two levels up from the notebook to project root, then append to sys.path\n",
    "sys.path.append(str(Path().resolve().parents[1]))\n",
    "\n",
    "PROJECT_ROOT = Path().resolve().parents[1]\n",
    "RESULTS_PATH = PROJECT_ROOT / \"results\"\n",
    "\n",
    "\n",
    "from utils.data_loading import load_datasets\n",
    "from utils.data_preparation import get_spo2_to_po2_interpolator, add_shift_raw_column, add_engineered_features\n",
    "from utils.evaluation import evaluate_macro_patient_level, print_evaluation, bland_altman_plots\n",
    "from utils.modeling import fit_cv_models, predict_cv_ensemble\n",
    "from utils.logging import log_run_json\n",
    "\n",
    "\n",
    "train_df, test_df, val_df, odc = load_datasets()\n",
    "spo2_to_po2 = get_spo2_to_po2_interpolator(odc)\n",
    "\n",
    "train_df = add_shift_raw_column(train_df, spo2_to_po2)\n",
    "test_df  = add_shift_raw_column(test_df, spo2_to_po2)\n",
    "val_df   = add_shift_raw_column(val_df, spo2_to_po2)"
   ]
  },
  {
   "cell_type": "markdown",
   "id": "b5b9b240",
   "metadata": {},
   "source": [
    "# Effect of Difference of Feature Sets"
   ]
  },
  {
   "cell_type": "markdown",
   "id": "3901ce46",
   "metadata": {},
   "source": [
    "## With Fixed Shift_raw"
   ]
  },
  {
   "cell_type": "code",
   "execution_count": 4,
   "id": "09489439",
   "metadata": {},
   "outputs": [],
   "source": [
    "import itertools\n",
    "import pandas as pd\n",
    "from sklearn.linear_model import LinearRegression\n",
    "\n",
    "\n",
    "\n",
    "train_df_engineered = add_engineered_features(train_df, spo2_to_po2)\n",
    "test_df_engineered = add_engineered_features(test_df, spo2_to_po2)\n",
    "\n",
    "# Always include 'shift_raw'\n",
    "base_features = ['PiO2(kPa)', 'SpO2(%)', 'Hb', 'log_PiO2', 'log_SpO2', 'SpO2_over_PiO2', \n",
    "                 'SpO2_squared', 'Hb_SpO2', 'saturation_deficit', 'CaO2_estimate']\n",
    "\n",
    "mandatory_feature = ['shift_raw']\n",
    "\n",
    "# Generate all combinations of additional features (1 to N), always adding shift_raw\n",
    "feature_combinations = [\n",
    "    mandatory_feature + list(combo)\n",
    "    for r in range(1, len(base_features) + 1)\n",
    "    for combo in itertools.combinations(base_features, r)\n",
    "]\n",
    "\n",
    "\n",
    "# Evaluate each feature set\n",
    "results = []\n",
    "\n",
    "for features in feature_combinations:\n",
    "    features = list(features)\n",
    "    model = LinearRegression()\n",
    "    cv_models = fit_cv_models(train_df_engineered, features=features, target_col='shift', model_class=LinearRegression, k=10)\n",
    "    test_df_engineered['y_pred'] = predict_cv_ensemble(test_df_engineered, features, cv_models)\n",
    "\n",
    "    summary = evaluate_macro_patient_level(test_df_engineered, y_true_col='shift', y_pred_col='y_pred')\n",
    "    results.append({\n",
    "        'features': features,\n",
    "        'MAE': summary['MAE'],\n",
    "        'MSE': summary['MSE'],\n",
    "        'RMSE': summary['RMSE'],\n",
    "        'Bias': summary['Mean Bias Error']\n",
    "    })\n",
    "\n",
    "# Convert results to DataFrame for inspection\n",
    "results_df = pd.DataFrame(results).sort_values(by='MAE')\n"
   ]
  },
  {
   "cell_type": "code",
   "execution_count": 5,
   "id": "b32c97e4",
   "metadata": {},
   "outputs": [
    {
     "data": {
      "application/vnd.microsoft.datawrangler.viewer.v0+json": {
       "columns": [
        {
         "name": "index",
         "rawType": "int64",
         "type": "integer"
        },
        {
         "name": "features",
         "rawType": "object",
         "type": "unknown"
        },
        {
         "name": "MAE",
         "rawType": "float64",
         "type": "float"
        },
        {
         "name": "MSE",
         "rawType": "float64",
         "type": "float"
        },
        {
         "name": "RMSE",
         "rawType": "float64",
         "type": "float"
        },
        {
         "name": "Bias",
         "rawType": "float64",
         "type": "float"
        }
       ],
       "ref": "ca509d47-fda4-4813-929b-ffc533694aab",
       "rows": [
        [
         "281",
         "['shift_raw', 'SpO2(%)', 'log_PiO2', 'log_SpO2', 'SpO2_squared']",
         "0.8906207539278178",
         "1.73331713401401",
         "1.081507066404966",
         "0.024642411923622994"
        ],
        [
         "551",
         "['shift_raw', 'SpO2(%)', 'log_PiO2', 'log_SpO2', 'SpO2_squared', 'saturation_deficit']",
         "0.8906207539278342",
         "1.7333171340140696",
         "1.0815070664049846",
         "0.02464241192362963"
        ],
        [
         "355",
         "['shift_raw', 'log_PiO2', 'log_SpO2', 'SpO2_squared', 'saturation_deficit']",
         "0.8906207539279732",
         "1.73331713401457",
         "1.0815070664051523",
         "0.024642411923532153"
        ],
        [
         "150",
         "['shift_raw', 'log_PiO2', 'SpO2_squared', 'saturation_deficit']",
         "0.891493060785742",
         "1.7365087126833518",
         "1.0822822775515806",
         "0.024563356914759214"
        ],
        [
         "100",
         "['shift_raw', 'SpO2(%)', 'log_PiO2', 'SpO2_squared']",
         "0.8914930607857994",
         "1.736508712683362",
         "1.0822822775516323",
         "0.024563356914746832"
        ],
        [
         "290",
         "['shift_raw', 'SpO2(%)', 'log_PiO2', 'SpO2_squared', 'saturation_deficit']",
         "0.8914930607858023",
         "1.7365087126834111",
         "1.0822822775516392",
         "0.024563356914754267"
        ],
        [
         "141",
         "['shift_raw', 'log_PiO2', 'log_SpO2', 'SpO2_squared']",
         "0.892682191563776",
         "1.7404695543166544",
         "1.0832545539365734",
         "0.024334287060606568"
        ],
        [
         "157",
         "['shift_raw', 'log_SpO2', 'SpO2_over_PiO2', 'saturation_deficit']",
         "0.8940666910099107",
         "1.7558878887384144",
         "1.0928863139417888",
         "0.05622881831738722"
        ],
        [
         "104",
         "['shift_raw', 'SpO2(%)', 'log_SpO2', 'SpO2_over_PiO2']",
         "0.8940666910099107",
         "1.7558878887384177",
         "1.0928863139417881",
         "0.056228818317394666"
        ],
        [
         "297",
         "['shift_raw', 'SpO2(%)', 'log_SpO2', 'SpO2_over_PiO2', 'saturation_deficit']",
         "0.8940666910099122",
         "1.7558878887384146",
         "1.0928863139417901",
         "0.05622881831737461"
        ],
        [
         "155",
         "['shift_raw', 'log_SpO2', 'SpO2_over_PiO2', 'SpO2_squared']",
         "0.8940827445943879",
         "1.7572786269718284",
         "1.0931292120323264",
         "0.05653186537123736"
        ],
        [
         "98",
         "['shift_raw', 'SpO2(%)', 'log_PiO2', 'log_SpO2']",
         "0.894206893291526",
         "1.7454126046788814",
         "1.084446040717311",
         "0.024090007931952647"
        ],
        [
         "143",
         "['shift_raw', 'log_PiO2', 'log_SpO2', 'saturation_deficit']",
         "0.8942068932915301",
         "1.7454126046788847",
         "1.0844460407173144",
         "0.024090007931958136"
        ],
        [
         "283",
         "['shift_raw', 'SpO2(%)', 'log_PiO2', 'log_SpO2', 'saturation_deficit']",
         "0.8942068932915462",
         "1.745412604678853",
         "1.0844460407173258",
         "0.024090007931951207"
        ],
        [
         "166",
         "['shift_raw', 'SpO2_over_PiO2', 'SpO2_squared', 'saturation_deficit']",
         "0.8942550154764876",
         "1.7590798793112021",
         "1.093517436644741",
         "0.056804506062165916"
        ],
        [
         "306",
         "['shift_raw', 'SpO2(%)', 'SpO2_over_PiO2', 'SpO2_squared', 'saturation_deficit']",
         "0.8942550154764876",
         "1.7590798793111913",
         "1.0935174366447415",
         "0.05680450606216137"
        ],
        [
         "109",
         "['shift_raw', 'SpO2(%)', 'SpO2_over_PiO2', 'SpO2_squared']",
         "0.8942550154764878",
         "1.7590798793111635",
         "1.0935174366447384",
         "0.05680450606216366"
        ],
        [
         "35",
         "['shift_raw', 'log_PiO2', 'SpO2_over_PiO2']",
         "0.9052328521604576",
         "1.9641575487258003",
         "1.1124328270494803",
         "0.06218828567373225"
        ],
        [
         "45",
         "['shift_raw', 'SpO2_over_PiO2', 'SpO2_squared']",
         "0.9066500182375267",
         "1.8199490244700185",
         "1.1082709911462223",
         "0.058382429418559645"
        ],
        [
         "5",
         "['shift_raw', 'SpO2_over_PiO2']",
         "0.9070064596365148",
         "1.9791178111600904",
         "1.1141119221136706",
         "0.06202485485532764"
        ],
        [
         "47",
         "['shift_raw', 'SpO2_over_PiO2', 'saturation_deficit']",
         "0.9076663408966686",
         "1.826515842721402",
         "1.1094305829367619",
         "0.05855373250555624"
        ],
        [
         "22",
         "['shift_raw', 'SpO2(%)', 'SpO2_over_PiO2']",
         "0.9076663408966686",
         "1.826515842721402",
         "1.1094305829367619",
         "0.05855373250555686"
        ],
        [
         "111",
         "['shift_raw', 'SpO2(%)', 'SpO2_over_PiO2', 'saturation_deficit']",
         "0.9076663408966689",
         "1.8265158427214012",
         "1.1094305829367623",
         "0.05855373250555677"
        ],
        [
         "40",
         "['shift_raw', 'log_SpO2', 'SpO2_over_PiO2']",
         "0.908574208332882",
         "1.8334461220132587",
         "1.1105353712327182",
         "0.05876609534291841"
        ],
        [
         "371",
         "['shift_raw', 'log_SpO2', 'SpO2_over_PiO2', 'SpO2_squared', 'saturation_deficit']",
         "0.9108336060703534",
         "1.814964335656381",
         "1.1076472277810039",
         "0.048548115468542284"
        ],
        [
         "295",
         "['shift_raw', 'SpO2(%)', 'log_SpO2', 'SpO2_over_PiO2', 'SpO2_squared']",
         "0.9108336060802654",
         "1.8149643356677367",
         "1.1076472277915452",
         "0.048548115469214434"
        ],
        [
         "567",
         "['shift_raw', 'SpO2(%)', 'log_SpO2', 'SpO2_over_PiO2', 'SpO2_squared', 'saturation_deficit']",
         "0.9108336060804635",
         "1.8149643356681073",
         "1.1076472277917437",
         "0.048548115469535795"
        ],
        [
         "36",
         "['shift_raw', 'log_PiO2', 'SpO2_squared']",
         "0.9213242369405842",
         "1.8748428703742908",
         "1.1144505126702744",
         "0.032833072772461745"
        ],
        [
         "672",
         "['shift_raw', 'PiO2(kPa)', 'SpO2(%)', 'log_PiO2', 'log_SpO2', 'SpO2_over_PiO2', 'SpO2_squared']",
         "0.9235541704446623",
         "1.8899917980675052",
         "1.0946238934566928",
         "0.009192813624451707"
        ],
        [
         "883",
         "['shift_raw', 'PiO2(kPa)', 'SpO2(%)', 'log_PiO2', 'log_SpO2', 'SpO2_over_PiO2', 'SpO2_squared', 'saturation_deficit']",
         "0.9235541704446735",
         "1.889991798067465",
         "1.094623893456711",
         "0.009192813624254207"
        ],
        [
         "743",
         "['shift_raw', 'PiO2(kPa)', 'log_PiO2', 'log_SpO2', 'SpO2_over_PiO2', 'SpO2_squared', 'saturation_deficit']",
         "0.9235541704447267",
         "1.8899917980674796",
         "1.0946238934567611",
         "0.009192813623943126"
        ],
        [
         "102",
         "['shift_raw', 'SpO2(%)', 'log_PiO2', 'saturation_deficit']",
         "0.9247801609889411",
         "1.8978275013940507",
         "1.1187922939164934",
         "0.03431619294883617"
        ],
        [
         "38",
         "['shift_raw', 'log_PiO2', 'saturation_deficit']",
         "0.9247801609889411",
         "1.89782750139405",
         "1.1187922939164934",
         "0.03431619294883236"
        ],
        [
         "20",
         "['shift_raw', 'SpO2(%)', 'log_PiO2']",
         "0.9247801609889414",
         "1.8978275013940507",
         "1.1187922939164936",
         "0.034316192948832855"
        ],
        [
         "34",
         "['shift_raw', 'log_PiO2', 'log_SpO2']",
         "0.9281286976473268",
         "1.9214474232378094",
         "1.1229537027140508",
         "0.03596677524063174"
        ],
        [
         "14",
         "['shift_raw', 'PiO2(kPa)', 'SpO2_over_PiO2']",
         "0.9289508789569578",
         "2.1308577725608955",
         "1.1317014774545608",
         "0.05778852769879929"
        ],
        [
         "411",
         "['shift_raw', 'PiO2(kPa)', 'SpO2(%)', 'log_PiO2', 'SpO2_over_PiO2', 'SpO2_squared']",
         "0.9295333651763728",
         "1.8980385539763411",
         "1.0990794380656188",
         "0.007765602003372779"
        ],
        [
         "683",
         "['shift_raw', 'PiO2(kPa)', 'SpO2(%)', 'log_PiO2', 'SpO2_over_PiO2', 'SpO2_squared', 'saturation_deficit']",
         "0.9295333651763739",
         "1.8980385539763684",
         "1.0990794380656228",
         "0.00776560200337465"
        ],
        [
         "487",
         "['shift_raw', 'PiO2(kPa)', 'log_PiO2', 'SpO2_over_PiO2', 'SpO2_squared', 'saturation_deficit']",
         "0.929533365176381",
         "1.8980385539763285",
         "1.099079438065626",
         "0.00776560200339241"
        ],
        [
         "476",
         "['shift_raw', 'PiO2(kPa)', 'log_PiO2', 'log_SpO2', 'SpO2_over_PiO2', 'SpO2_squared']",
         "0.9297247619038616",
         "1.8975127375303469",
         "1.0990791612353124",
         "0.007869520761880432"
        ],
        [
         "674",
         "['shift_raw', 'PiO2(kPa)', 'SpO2(%)', 'log_PiO2', 'log_SpO2', 'SpO2_over_PiO2', 'saturation_deficit']",
         "0.9302127056960027",
         "1.8979940180454773",
         "1.0993838268355343",
         "0.007976092224902122"
        ],
        [
         "478",
         "['shift_raw', 'PiO2(kPa)', 'log_PiO2', 'log_SpO2', 'SpO2_over_PiO2', 'saturation_deficit']",
         "0.9302127056960053",
         "1.8979940180454826",
         "1.0993838268355385",
         "0.007976092224871759"
        ],
        [
         "406",
         "['shift_raw', 'PiO2(kPa)', 'SpO2(%)', 'log_PiO2', 'log_SpO2', 'SpO2_over_PiO2']",
         "0.9302127056960099",
         "1.8979940180454935",
         "1.099383826835543",
         "0.007976092224879243"
        ],
        [
         "229",
         "['shift_raw', 'PiO2(kPa)', 'log_PiO2', 'SpO2_over_PiO2', 'SpO2_squared']",
         "0.9322746545190451",
         "1.870267400767859",
         "1.0920371547571628",
         "0.016007845941498604"
        ],
        [
         "183",
         "['shift_raw', 'PiO2(kPa)', 'SpO2(%)', 'log_PiO2', 'SpO2_over_PiO2']",
         "0.9372399328782592",
         "1.8872248603958788",
         "1.0973065795515855",
         "0.02037638602086167"
        ],
        [
         "231",
         "['shift_raw', 'PiO2(kPa)', 'log_PiO2', 'SpO2_over_PiO2', 'saturation_deficit']",
         "0.9372399328782602",
         "1.887224860395886",
         "1.0973065795515866",
         "0.020376386020864667"
        ],
        [
         "413",
         "['shift_raw', 'PiO2(kPa)', 'SpO2(%)', 'log_PiO2', 'SpO2_over_PiO2', 'saturation_deficit']",
         "0.9372399328782607",
         "1.887224860395879",
         "1.0973065795515875",
         "0.020376386020848604"
        ],
        [
         "546",
         "['shift_raw', 'SpO2(%)', 'log_PiO2', 'log_SpO2', 'SpO2_over_PiO2', 'SpO2_squared']",
         "0.939226460126128",
         "2.0768172224465995",
         "1.1221724476380084",
         "0.0067504861971505"
        ],
        [
         "799",
         "['shift_raw', 'SpO2(%)', 'log_PiO2', 'log_SpO2', 'SpO2_over_PiO2', 'SpO2_squared', 'saturation_deficit']",
         "0.9392264601262656",
         "2.0768172224473815",
         "1.122172447638215",
         "0.006750486196696217"
        ],
        [
         "617",
         "['shift_raw', 'log_PiO2', 'log_SpO2', 'SpO2_over_PiO2', 'SpO2_squared', 'saturation_deficit']",
         "0.9392264601266263",
         "2.0768172224476658",
         "1.1221724476385146",
         "0.006750486196553929"
        ]
       ],
       "shape": {
        "columns": 5,
        "rows": 1023
       }
      },
      "text/html": [
       "<div>\n",
       "<style scoped>\n",
       "    .dataframe tbody tr th:only-of-type {\n",
       "        vertical-align: middle;\n",
       "    }\n",
       "\n",
       "    .dataframe tbody tr th {\n",
       "        vertical-align: top;\n",
       "    }\n",
       "\n",
       "    .dataframe thead th {\n",
       "        text-align: right;\n",
       "    }\n",
       "</style>\n",
       "<table border=\"1\" class=\"dataframe\">\n",
       "  <thead>\n",
       "    <tr style=\"text-align: right;\">\n",
       "      <th></th>\n",
       "      <th>features</th>\n",
       "      <th>MAE</th>\n",
       "      <th>MSE</th>\n",
       "      <th>RMSE</th>\n",
       "      <th>Bias</th>\n",
       "    </tr>\n",
       "  </thead>\n",
       "  <tbody>\n",
       "    <tr>\n",
       "      <th>281</th>\n",
       "      <td>[shift_raw, SpO2(%), log_PiO2, log_SpO2, SpO2_...</td>\n",
       "      <td>0.890621</td>\n",
       "      <td>1.733317</td>\n",
       "      <td>1.081507</td>\n",
       "      <td>0.024642</td>\n",
       "    </tr>\n",
       "    <tr>\n",
       "      <th>551</th>\n",
       "      <td>[shift_raw, SpO2(%), log_PiO2, log_SpO2, SpO2_...</td>\n",
       "      <td>0.890621</td>\n",
       "      <td>1.733317</td>\n",
       "      <td>1.081507</td>\n",
       "      <td>0.024642</td>\n",
       "    </tr>\n",
       "    <tr>\n",
       "      <th>355</th>\n",
       "      <td>[shift_raw, log_PiO2, log_SpO2, SpO2_squared, ...</td>\n",
       "      <td>0.890621</td>\n",
       "      <td>1.733317</td>\n",
       "      <td>1.081507</td>\n",
       "      <td>0.024642</td>\n",
       "    </tr>\n",
       "    <tr>\n",
       "      <th>150</th>\n",
       "      <td>[shift_raw, log_PiO2, SpO2_squared, saturation...</td>\n",
       "      <td>0.891493</td>\n",
       "      <td>1.736509</td>\n",
       "      <td>1.082282</td>\n",
       "      <td>0.024563</td>\n",
       "    </tr>\n",
       "    <tr>\n",
       "      <th>100</th>\n",
       "      <td>[shift_raw, SpO2(%), log_PiO2, SpO2_squared]</td>\n",
       "      <td>0.891493</td>\n",
       "      <td>1.736509</td>\n",
       "      <td>1.082282</td>\n",
       "      <td>0.024563</td>\n",
       "    </tr>\n",
       "    <tr>\n",
       "      <th>...</th>\n",
       "      <td>...</td>\n",
       "      <td>...</td>\n",
       "      <td>...</td>\n",
       "      <td>...</td>\n",
       "      <td>...</td>\n",
       "    </tr>\n",
       "    <tr>\n",
       "      <th>16</th>\n",
       "      <td>[shift_raw, PiO2(kPa), Hb_SpO2]</td>\n",
       "      <td>1.123795</td>\n",
       "      <td>3.710883</td>\n",
       "      <td>1.312705</td>\n",
       "      <td>-0.074786</td>\n",
       "    </tr>\n",
       "    <tr>\n",
       "      <th>18</th>\n",
       "      <td>[shift_raw, PiO2(kPa), CaO2_estimate]</td>\n",
       "      <td>1.123795</td>\n",
       "      <td>3.710883</td>\n",
       "      <td>1.312705</td>\n",
       "      <td>-0.074786</td>\n",
       "    </tr>\n",
       "    <tr>\n",
       "      <th>89</th>\n",
       "      <td>[shift_raw, PiO2(kPa), Hb_SpO2, CaO2_estimate]</td>\n",
       "      <td>1.123795</td>\n",
       "      <td>3.710883</td>\n",
       "      <td>1.312705</td>\n",
       "      <td>-0.074786</td>\n",
       "    </tr>\n",
       "    <tr>\n",
       "      <th>53</th>\n",
       "      <td>[shift_raw, Hb_SpO2, CaO2_estimate]</td>\n",
       "      <td>1.123795</td>\n",
       "      <td>3.710883</td>\n",
       "      <td>1.312705</td>\n",
       "      <td>-0.074786</td>\n",
       "    </tr>\n",
       "    <tr>\n",
       "      <th>134</th>\n",
       "      <td>[shift_raw, Hb, SpO2_squared, Hb_SpO2]</td>\n",
       "      <td>1.136729</td>\n",
       "      <td>4.216834</td>\n",
       "      <td>1.383360</td>\n",
       "      <td>0.140304</td>\n",
       "    </tr>\n",
       "  </tbody>\n",
       "</table>\n",
       "<p>1023 rows × 5 columns</p>\n",
       "</div>"
      ],
      "text/plain": [
       "                                              features       MAE       MSE  \\\n",
       "281  [shift_raw, SpO2(%), log_PiO2, log_SpO2, SpO2_...  0.890621  1.733317   \n",
       "551  [shift_raw, SpO2(%), log_PiO2, log_SpO2, SpO2_...  0.890621  1.733317   \n",
       "355  [shift_raw, log_PiO2, log_SpO2, SpO2_squared, ...  0.890621  1.733317   \n",
       "150  [shift_raw, log_PiO2, SpO2_squared, saturation...  0.891493  1.736509   \n",
       "100       [shift_raw, SpO2(%), log_PiO2, SpO2_squared]  0.891493  1.736509   \n",
       "..                                                 ...       ...       ...   \n",
       "16                     [shift_raw, PiO2(kPa), Hb_SpO2]  1.123795  3.710883   \n",
       "18               [shift_raw, PiO2(kPa), CaO2_estimate]  1.123795  3.710883   \n",
       "89      [shift_raw, PiO2(kPa), Hb_SpO2, CaO2_estimate]  1.123795  3.710883   \n",
       "53                 [shift_raw, Hb_SpO2, CaO2_estimate]  1.123795  3.710883   \n",
       "134             [shift_raw, Hb, SpO2_squared, Hb_SpO2]  1.136729  4.216834   \n",
       "\n",
       "         RMSE      Bias  \n",
       "281  1.081507  0.024642  \n",
       "551  1.081507  0.024642  \n",
       "355  1.081507  0.024642  \n",
       "150  1.082282  0.024563  \n",
       "100  1.082282  0.024563  \n",
       "..        ...       ...  \n",
       "16   1.312705 -0.074786  \n",
       "18   1.312705 -0.074786  \n",
       "89   1.312705 -0.074786  \n",
       "53   1.312705 -0.074786  \n",
       "134  1.383360  0.140304  \n",
       "\n",
       "[1023 rows x 5 columns]"
      ]
     },
     "execution_count": 5,
     "metadata": {},
     "output_type": "execute_result"
    }
   ],
   "source": [
    "results_df"
   ]
  },
  {
   "cell_type": "code",
   "execution_count": 6,
   "id": "bd762a95",
   "metadata": {},
   "outputs": [],
   "source": [
    "results_df_rounded = results_df.copy()\n",
    "\n",
    "for col in results_df.columns:\n",
    "    if col != 'features':\n",
    "        results_df_rounded[col] = pd.to_numeric(results_df[col], errors='coerce').round(3)\n",
    "results_df_rounded.head(10).to_csv(RESULTS_PATH / \"linear_regression_subsets.csv\", index=False)"
   ]
  },
  {
   "cell_type": "code",
   "execution_count": 7,
   "id": "8593fce0",
   "metadata": {},
   "outputs": [
    {
     "data": {
      "text/plain": [
       "[('shift_raw', 10),\n",
       " ('log_PiO2', 7),\n",
       " ('log_SpO2', 7),\n",
       " ('SpO2_squared', 7),\n",
       " ('SpO2(%)', 6),\n",
       " ('saturation_deficit', 6),\n",
       " ('SpO2_over_PiO2', 3)]"
      ]
     },
     "execution_count": 7,
     "metadata": {},
     "output_type": "execute_result"
    }
   ],
   "source": [
    "top_n = 10\n",
    "top_features = results_df.nsmallest(top_n, 'MAE')['features']\n",
    "\n",
    "from collections import Counter\n",
    "flat_features = [f for sublist in top_features for f in sublist]\n",
    "freq_counter = Counter(flat_features)\n",
    "\n",
    "# View most frequent features in top-N models\n",
    "sorted(freq_counter.items(), key=lambda x: x[1], reverse=True)\n"
   ]
  },
  {
   "cell_type": "markdown",
   "id": "d11604ce",
   "metadata": {},
   "source": [
    "# True Stepwise-Forward Selection"
   ]
  },
  {
   "cell_type": "code",
   "execution_count": 8,
   "id": "e40b0679",
   "metadata": {},
   "outputs": [
    {
     "name": "stdout",
     "output_type": "stream",
     "text": [
      "Step 1: ['shift_raw', 'SpO2_over_PiO2'] → Adjusted R² = 0.8355\n",
      "Step 2: ['shift_raw', 'SpO2_over_PiO2', 'SpO2_squared'] → Adjusted R² = 0.8405\n",
      "Step 3: ['shift_raw', 'SpO2_over_PiO2', 'SpO2_squared', 'log_PiO2'] → Adjusted R² = 0.8657\n",
      "Step 4: ['shift_raw', 'SpO2_over_PiO2', 'SpO2_squared', 'log_PiO2', 'saturation_deficit'] → Adjusted R² = 0.8719\n",
      "Step 5: ['shift_raw', 'SpO2_over_PiO2', 'SpO2_squared', 'log_PiO2', 'saturation_deficit', 'PiO2(kPa)'] → Adjusted R² = 0.8737\n",
      "Step 6: ['shift_raw', 'SpO2_over_PiO2', 'SpO2_squared', 'log_PiO2', 'saturation_deficit', 'PiO2(kPa)', 'log_SpO2'] → Adjusted R² = 0.8744\n",
      "Step 7: ['shift_raw', 'SpO2_over_PiO2', 'SpO2_squared', 'log_PiO2', 'saturation_deficit', 'PiO2(kPa)', 'log_SpO2', 'Hb_SpO2'] → Adjusted R² = 0.8749\n",
      "Step 8: ['shift_raw', 'SpO2_over_PiO2', 'SpO2_squared', 'log_PiO2', 'saturation_deficit', 'PiO2(kPa)', 'log_SpO2', 'Hb_SpO2', 'Hb'] → Adjusted R² = 0.8753\n"
     ]
    }
   ],
   "source": [
    "from sklearn.linear_model import LinearRegression\n",
    "from sklearn.metrics import r2_score\n",
    "import numpy as np\n",
    "import pandas as pd\n",
    "\n",
    "\n",
    "\n",
    "train_df_engineered = add_engineered_features(train_df, spo2_to_po2)\n",
    "test_df_engineered = add_engineered_features(test_df, spo2_to_po2)\n",
    "\n",
    "def adjusted_r2_score(y_true, y_pred, n, p):\n",
    "    r2 = r2_score(y_true, y_pred)\n",
    "    return 1 - ((1 - r2) * (n - 1) / (n - p - 1))\n",
    "\n",
    "# Base features\n",
    "base_features = ['PiO2(kPa)', 'SpO2(%)', 'Hb', 'log_PiO2', 'log_SpO2',\n",
    "                 'SpO2_over_PiO2', 'SpO2_squared', 'Hb_SpO2',\n",
    "                 'saturation_deficit', 'CaO2_estimate']\n",
    "\n",
    "selected_features = ['shift_raw']\n",
    "remaining_features = base_features.copy()\n",
    "\n",
    "improvement = True\n",
    "results = []\n",
    "\n",
    "while improvement and remaining_features:\n",
    "    best_feature = None\n",
    "    best_adj_r2 = -np.inf\n",
    "\n",
    "    for feature in remaining_features:\n",
    "        candidate_features = selected_features + [feature]\n",
    "        X = train_df_engineered[candidate_features]\n",
    "        y = train_df_engineered['shift']\n",
    "\n",
    "        model = LinearRegression().fit(X, y)\n",
    "        y_pred = model.predict(X)\n",
    "        adj_r2 = adjusted_r2_score(y, y_pred, n=len(y), p=len(candidate_features))\n",
    "\n",
    "        if adj_r2 > best_adj_r2:\n",
    "            best_adj_r2 = adj_r2\n",
    "            best_feature = feature\n",
    "\n",
    "    current_X = train_df_engineered[selected_features]\n",
    "    current_model = LinearRegression().fit(current_X, train_df_engineered['shift'])\n",
    "    current_pred = current_model.predict(current_X)\n",
    "    current_adj_r2 = adjusted_r2_score(train_df_engineered['shift'], current_pred, len(train_df_engineered), len(selected_features))\n",
    "\n",
    "    if best_adj_r2 > current_adj_r2:\n",
    "        selected_features.append(best_feature)\n",
    "        remaining_features.remove(best_feature)\n",
    "        results.append((selected_features.copy(), best_adj_r2))\n",
    "    else:\n",
    "        improvement = False\n",
    "\n",
    "# Final selected features and their adjusted R²\n",
    "for idx, (features, score) in enumerate(results):\n",
    "    print(f\"Step {idx+1}: {features} → Adjusted R² = {score:.4f}\")\n"
   ]
  },
  {
   "cell_type": "code",
   "execution_count": 9,
   "id": "ea717fef",
   "metadata": {},
   "outputs": [
    {
     "data": {
      "application/vnd.microsoft.datawrangler.viewer.v0+json": {
       "columns": [
        {
         "name": "index",
         "rawType": "int64",
         "type": "integer"
        },
        {
         "name": "Step",
         "rawType": "int64",
         "type": "integer"
        },
        {
         "name": "Num_Features",
         "rawType": "int64",
         "type": "integer"
        },
        {
         "name": "Features",
         "rawType": "object",
         "type": "string"
        },
        {
         "name": "Adjusted_R2",
         "rawType": "float64",
         "type": "float"
        }
       ],
       "ref": "71d8e467-b2ae-4d21-9e2e-ef1e8f9fffff",
       "rows": [
        [
         "0",
         "1",
         "2",
         "shift_raw, SpO2_over_PiO2",
         "0.836"
        ],
        [
         "1",
         "2",
         "3",
         "shift_raw, SpO2_over_PiO2, SpO2_squared",
         "0.84"
        ],
        [
         "2",
         "3",
         "4",
         "shift_raw, SpO2_over_PiO2, SpO2_squared, log_PiO2",
         "0.866"
        ],
        [
         "3",
         "4",
         "5",
         "shift_raw, SpO2_over_PiO2, SpO2_squared, log_PiO2, saturation_deficit",
         "0.872"
        ],
        [
         "4",
         "5",
         "6",
         "shift_raw, SpO2_over_PiO2, SpO2_squared, log_PiO2, saturation_deficit, PiO2(kPa)",
         "0.874"
        ],
        [
         "5",
         "6",
         "7",
         "shift_raw, SpO2_over_PiO2, SpO2_squared, log_PiO2, saturation_deficit, PiO2(kPa), log_SpO2",
         "0.874"
        ],
        [
         "6",
         "7",
         "8",
         "shift_raw, SpO2_over_PiO2, SpO2_squared, log_PiO2, saturation_deficit, PiO2(kPa), log_SpO2, Hb_SpO2",
         "0.875"
        ],
        [
         "7",
         "8",
         "9",
         "shift_raw, SpO2_over_PiO2, SpO2_squared, log_PiO2, saturation_deficit, PiO2(kPa), log_SpO2, Hb_SpO2, Hb",
         "0.875"
        ]
       ],
       "shape": {
        "columns": 4,
        "rows": 8
       }
      },
      "text/html": [
       "<div>\n",
       "<style scoped>\n",
       "    .dataframe tbody tr th:only-of-type {\n",
       "        vertical-align: middle;\n",
       "    }\n",
       "\n",
       "    .dataframe tbody tr th {\n",
       "        vertical-align: top;\n",
       "    }\n",
       "\n",
       "    .dataframe thead th {\n",
       "        text-align: right;\n",
       "    }\n",
       "</style>\n",
       "<table border=\"1\" class=\"dataframe\">\n",
       "  <thead>\n",
       "    <tr style=\"text-align: right;\">\n",
       "      <th></th>\n",
       "      <th>Step</th>\n",
       "      <th>Num_Features</th>\n",
       "      <th>Features</th>\n",
       "      <th>Adjusted_R2</th>\n",
       "    </tr>\n",
       "  </thead>\n",
       "  <tbody>\n",
       "    <tr>\n",
       "      <th>0</th>\n",
       "      <td>1</td>\n",
       "      <td>2</td>\n",
       "      <td>shift_raw, SpO2_over_PiO2</td>\n",
       "      <td>0.836</td>\n",
       "    </tr>\n",
       "    <tr>\n",
       "      <th>1</th>\n",
       "      <td>2</td>\n",
       "      <td>3</td>\n",
       "      <td>shift_raw, SpO2_over_PiO2, SpO2_squared</td>\n",
       "      <td>0.840</td>\n",
       "    </tr>\n",
       "    <tr>\n",
       "      <th>2</th>\n",
       "      <td>3</td>\n",
       "      <td>4</td>\n",
       "      <td>shift_raw, SpO2_over_PiO2, SpO2_squared, log_PiO2</td>\n",
       "      <td>0.866</td>\n",
       "    </tr>\n",
       "    <tr>\n",
       "      <th>3</th>\n",
       "      <td>4</td>\n",
       "      <td>5</td>\n",
       "      <td>shift_raw, SpO2_over_PiO2, SpO2_squared, log_P...</td>\n",
       "      <td>0.872</td>\n",
       "    </tr>\n",
       "    <tr>\n",
       "      <th>4</th>\n",
       "      <td>5</td>\n",
       "      <td>6</td>\n",
       "      <td>shift_raw, SpO2_over_PiO2, SpO2_squared, log_P...</td>\n",
       "      <td>0.874</td>\n",
       "    </tr>\n",
       "    <tr>\n",
       "      <th>5</th>\n",
       "      <td>6</td>\n",
       "      <td>7</td>\n",
       "      <td>shift_raw, SpO2_over_PiO2, SpO2_squared, log_P...</td>\n",
       "      <td>0.874</td>\n",
       "    </tr>\n",
       "    <tr>\n",
       "      <th>6</th>\n",
       "      <td>7</td>\n",
       "      <td>8</td>\n",
       "      <td>shift_raw, SpO2_over_PiO2, SpO2_squared, log_P...</td>\n",
       "      <td>0.875</td>\n",
       "    </tr>\n",
       "    <tr>\n",
       "      <th>7</th>\n",
       "      <td>8</td>\n",
       "      <td>9</td>\n",
       "      <td>shift_raw, SpO2_over_PiO2, SpO2_squared, log_P...</td>\n",
       "      <td>0.875</td>\n",
       "    </tr>\n",
       "  </tbody>\n",
       "</table>\n",
       "</div>"
      ],
      "text/plain": [
       "   Step  Num_Features                                           Features  \\\n",
       "0     1             2                          shift_raw, SpO2_over_PiO2   \n",
       "1     2             3            shift_raw, SpO2_over_PiO2, SpO2_squared   \n",
       "2     3             4  shift_raw, SpO2_over_PiO2, SpO2_squared, log_PiO2   \n",
       "3     4             5  shift_raw, SpO2_over_PiO2, SpO2_squared, log_P...   \n",
       "4     5             6  shift_raw, SpO2_over_PiO2, SpO2_squared, log_P...   \n",
       "5     6             7  shift_raw, SpO2_over_PiO2, SpO2_squared, log_P...   \n",
       "6     7             8  shift_raw, SpO2_over_PiO2, SpO2_squared, log_P...   \n",
       "7     8             9  shift_raw, SpO2_over_PiO2, SpO2_squared, log_P...   \n",
       "\n",
       "   Adjusted_R2  \n",
       "0        0.836  \n",
       "1        0.840  \n",
       "2        0.866  \n",
       "3        0.872  \n",
       "4        0.874  \n",
       "5        0.874  \n",
       "6        0.875  \n",
       "7        0.875  "
      ]
     },
     "execution_count": 9,
     "metadata": {},
     "output_type": "execute_result"
    }
   ],
   "source": [
    "import pandas as pd\n",
    "\n",
    "# Prepare results for export\n",
    "results_table = pd.DataFrame([\n",
    "    {\n",
    "        \"Step\": idx + 1,\n",
    "        \"Num_Features\": len(features),\n",
    "        \"Features\": \", \".join(features),\n",
    "        \"Adjusted_R2\": round(score, 3)\n",
    "    }\n",
    "    for idx, (features, score) in enumerate(results)\n",
    "])\n",
    "\n",
    "# Export to CSV in the results folder\n",
    "results_table.to_csv(RESULTS_PATH / \"linear_regression_stepwise_forward_selection_results.csv\", index=False)\n",
    "results_table"
   ]
  },
  {
   "cell_type": "markdown",
   "id": "efa027c9",
   "metadata": {},
   "source": [
    "## Model with True Stepwise Forward Selection"
   ]
  },
  {
   "cell_type": "code",
   "execution_count": 1,
   "id": "00d00644",
   "metadata": {},
   "outputs": [],
   "source": [
    "import sys\n",
    "import pandas as pd\n",
    "import numpy as np\n",
    "import matplotlib.pyplot as plt\n",
    "from pathlib import Path\n",
    "\n",
    "# two levels up from the notebook to project root, then append to sys.path\n",
    "sys.path.append(str(Path().resolve().parents[1]))\n",
    "\n",
    "PROJECT_ROOT = Path().resolve().parents[1]\n",
    "RESULTS_PATH = PROJECT_ROOT / \"results\"\n",
    "\n",
    "\n",
    "from utils.data_loading import load_datasets\n",
    "from utils.data_preparation import get_spo2_to_po2_interpolator, add_shift_raw_column, add_engineered_features\n",
    "from utils.evaluation import evaluate_macro_patient_level, print_evaluation, bland_altman_plots, bland_altman_pct_comparison\n",
    "from utils.modeling import fit_cv_models, predict_cv_ensemble\n",
    "from utils.logging import log_run_json\n",
    "\n",
    "\n",
    "train_df, test_df, val_df, odc = load_datasets()\n",
    "spo2_to_po2 = get_spo2_to_po2_interpolator(odc)\n",
    "\n",
    "train_df = add_shift_raw_column(train_df, spo2_to_po2)\n",
    "test_df  = add_shift_raw_column(test_df, spo2_to_po2)\n",
    "val_df   = add_shift_raw_column(val_df, spo2_to_po2)"
   ]
  },
  {
   "cell_type": "code",
   "execution_count": 2,
   "id": "0f264aa6",
   "metadata": {},
   "outputs": [],
   "source": [
    "from sklearn.linear_model import LinearRegression"
   ]
  },
  {
   "cell_type": "code",
   "execution_count": 4,
   "id": "fe37c286",
   "metadata": {},
   "outputs": [
    {
     "name": "stdout",
     "output_type": "stream",
     "text": [
      "Macro-averaged per-patient metrics:\n",
      "MAE  = 0.972\n",
      "MSE  = 2.255\n",
      "RMSE = 1.157\n",
      "Mean Bias Error = 0.017\n",
      "MAPE = 9.190%\n",
      "nRMSE = 6.150%\n"
     ]
    }
   ],
   "source": [
    "train_df_engineered = add_engineered_features(train_df, spo2_to_po2)\n",
    "test_df_engineered = add_engineered_features(test_df, spo2_to_po2)\n",
    "val_df_engineered = add_engineered_features(val_df, spo2_to_po2)\n",
    "\n",
    "features = ['shift_raw', 'SpO2_over_PiO2',  'SpO2_squared', 'log_PiO2']\n",
    "\n",
    "# Train ensemble of CV models\n",
    "cv_models = fit_cv_models(\n",
    "    train_df,\n",
    "    features=features,\n",
    "    target_col='shift',\n",
    "    model_class=LinearRegression,\n",
    "    k=10\n",
    ")\n",
    "\n",
    "# Predict on test set (average over CV models)\n",
    "test_df['y_pred'] = predict_cv_ensemble(test_df, features, cv_models)\n",
    "\n",
    "# Evaluate macro-averaged patient metrics\n",
    "test_summary = evaluate_macro_patient_level(test_df, y_true_col='shift', y_pred_col='y_pred')\n",
    "print_evaluation(test_summary)\n"
   ]
  },
  {
   "cell_type": "code",
   "execution_count": 5,
   "id": "77fe368a",
   "metadata": {},
   "outputs": [
    {
     "name": "stdout",
     "output_type": "stream",
     "text": [
      "Macro-averaged per-patient metrics:\n",
      "MAE  = 1.140\n",
      "MSE  = 3.377\n",
      "RMSE = 1.417\n",
      "Mean Bias Error = 0.243\n",
      "MAPE = 9.428%\n",
      "nRMSE = 7.268%\n"
     ]
    }
   ],
   "source": [
    "val_df['y_pred'] = predict_cv_ensemble(val_df, features, cv_models)\n",
    "\n",
    "val_summary = evaluate_macro_patient_level(val_df, y_true_col='shift', y_pred_col='y_pred')\n",
    "print_evaluation(val_summary)\n"
   ]
  },
  {
   "cell_type": "code",
   "execution_count": 6,
   "id": "a360355e",
   "metadata": {},
   "outputs": [
    {
     "name": "stdout",
     "output_type": "stream",
     "text": [
      "✅ Logged run #3 ➜ /Users/sarah/Code/neonatal-odc-shift/results/single_point_model_metrics_log.json\n"
     ]
    }
   ],
   "source": [
    "description = f'''\n",
    "Model: Linear Regression Optimal Stepwise Forward Selection\n",
    "Description: This is a model that is trained on the optimal features derived from the forward stepwise selection process.\n",
    "Features: shift_raw, log_PiO2, SpO2_squared, saturation_deficit\n",
    "Target: shift\n",
    "Notes: patient-level macro metrics, ODC from neonatal table\n",
    "'''\n",
    "\n",
    "# Filter only scalar (JSON-serializable) entries\n",
    "json_test_metrics = {\n",
    "    k: float(v) if isinstance(v, (np.generic, np.float64, np.float32)) else v\n",
    "    for k, v in test_summary.items()\n",
    "    if not isinstance(v, pd.Series)\n",
    "}\n",
    "json_val_metrics = {\n",
    "    k: float(v) if isinstance(v, (np.generic, np.float64, np.float32)) else v\n",
    "    for k, v in val_summary.items()\n",
    "    if not isinstance(v, pd.Series)\n",
    "}\n",
    "\n",
    "json_path = RESULTS_PATH / \"single_point_model_metrics_log.json\"\n",
    "\n",
    "log_run_json(\n",
    "    identifier=\"Linear Regression Optimal features\",\n",
    "    model_type=\"Linear Regression\",\n",
    "    features=features,\n",
    "    train_subset=\"full train set\",\n",
    "    test_subset=\"full test set\",\n",
    "    val_subset=\"full validation set\",  \n",
    "    description=description,\n",
    "    test_metrics=json_test_metrics,\n",
    "    val_metrics=json_val_metrics,\n",
    "\n",
    "    json_path=json_path\n",
    ")\n"
   ]
  }
 ],
 "metadata": {
  "kernelspec": {
   "display_name": "MasterThesis",
   "language": "python",
   "name": "python3"
  },
  "language_info": {
   "codemirror_mode": {
    "name": "ipython",
    "version": 3
   },
   "file_extension": ".py",
   "mimetype": "text/x-python",
   "name": "python",
   "nbconvert_exporter": "python",
   "pygments_lexer": "ipython3",
   "version": "3.10.13"
  }
 },
 "nbformat": 4,
 "nbformat_minor": 5
}
