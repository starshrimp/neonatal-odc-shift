{
 "cells": [
  {
   "cell_type": "code",
   "execution_count": 1,
   "id": "cf956445",
   "metadata": {},
   "outputs": [],
   "source": [
    "import sys\n",
    "import pandas as pd\n",
    "import numpy as np\n",
    "import matplotlib.pyplot as plt\n",
    "from pathlib import Path\n",
    "\n",
    "# two levels up from the notebook to project root, then append to sys.path\n",
    "sys.path.append(str(Path().resolve().parents[1]))\n",
    "\n",
    "PROJECT_ROOT = Path().resolve().parents[1]\n",
    "RESULTS_PATH = PROJECT_ROOT / \"results\"\n",
    "\n",
    "\n",
    "from utils.data_loading import load_datasets\n",
    "from utils.data_preparation import get_spo2_to_po2_interpolator, add_shift_raw_column, add_engineered_features\n",
    "from utils.evaluation import evaluate_macro_patient_level, print_evaluation, bland_altman_plots, bland_altman_pct_comparison\n",
    "from utils.modeling import fit_cv_models, predict_cv_ensemble, average_linear_coeffs\n",
    "from utils.logging import log_run_json\n",
    "\n",
    "\n",
    "train_df, test_df, val_df, odc = load_datasets()\n",
    "spo2_to_po2 = get_spo2_to_po2_interpolator(odc)\n",
    "\n",
    "\n",
    "\n",
    "\n",
    "train_df_engineered = add_engineered_features(train_df, spo2_to_po2)\n",
    "test_df_engineered = add_engineered_features(test_df, spo2_to_po2)\n",
    "val_df_engineered = add_engineered_features(val_df, spo2_to_po2)\n",
    "\n",
    "features = ['shift_raw', 'PiO2(kPa)', 'SpO2(%)', 'Hb', 'log_PiO2', 'log_SpO2', 'SpO2_over_PiO2', \n",
    "                 'SpO2_squared', 'Hb_SpO2', 'saturation_deficit', 'CaO2_estimate']\n",
    "\n"
   ]
  },
  {
   "cell_type": "code",
   "execution_count": 2,
   "id": "f6e0afb6",
   "metadata": {},
   "outputs": [
    {
     "name": "stdout",
     "output_type": "stream",
     "text": [
      "Macro-averaged per-patient metrics:\n",
      "MAE  = 0.922\n",
      "MSE  = 2.331\n",
      "RMSE = 1.122\n",
      "Mean Bias Error = 0.039\n",
      "MAPE = 8.718%\n",
      "nRMSE = 5.967%\n"
     ]
    }
   ],
   "source": [
    "from xgboost import XGBRegressor\n",
    "\n",
    "features = ['PiO2(kPa)', 'SpO2(%)']\n",
    "\n",
    "cv_models = fit_cv_models(\n",
    "    train_df,\n",
    "    features=features,\n",
    "    target_col='shift',\n",
    "    model_class=XGBRegressor,\n",
    "    k=10,\n",
    "    model_kwargs={'n_estimators': 100, 'max_depth': 3, 'random_state': 42}\n",
    ")\n",
    "\n",
    "\n",
    "test_df['y_pred'] = predict_cv_ensemble(test_df, features, cv_models)\n",
    "\n",
    "# Evaluate macro patient-level metrics\n",
    "test_summary = evaluate_macro_patient_level(test_df, y_true_col='shift', y_pred_col='y_pred')\n",
    "print_evaluation(test_summary)\n"
   ]
  },
  {
   "cell_type": "code",
   "execution_count": 3,
   "id": "d06b26b3",
   "metadata": {},
   "outputs": [
    {
     "name": "stdout",
     "output_type": "stream",
     "text": [
      "Macro-averaged per-patient metrics:\n",
      "MAE  = 0.978\n",
      "MSE  = 2.656\n",
      "RMSE = 1.189\n",
      "Mean Bias Error = -0.058\n",
      "MAPE = 7.894%\n",
      "nRMSE = 6.098%\n"
     ]
    }
   ],
   "source": [
    "val_df['y_pred'] = predict_cv_ensemble(val_df, features, cv_models)\n",
    "\n",
    "val_summary = evaluate_macro_patient_level(val_df, y_true_col='shift', y_pred_col='y_pred')\n",
    "print_evaluation(val_summary)"
   ]
  },
  {
   "cell_type": "code",
   "execution_count": 4,
   "id": "f49a847b",
   "metadata": {},
   "outputs": [
    {
     "name": "stdout",
     "output_type": "stream",
     "text": [
      "✅ Logged run #5 ➜ /Users/sarah/Code/neonatal-odc-shift/results/single_point_model_metrics_log.json\n"
     ]
    }
   ],
   "source": [
    "description = f'''\n",
    "Model: Baseline XGBoost Regressor\n",
    "Description: This is a model that is trained on the two base features and on the full train dataset and evaluated on the full test/val sets.\n",
    "Features: {', '.join(features)}\n",
    "Target: shift\n",
    "Notes: patient-level macro metrics, ODC from neonatal table\n",
    "'''\n",
    "\n",
    "# Filter only scalar (JSON-serializable) entries\n",
    "json_test_metrics = {\n",
    "    k: float(v) if isinstance(v, (np.generic, np.float64, np.float32)) else v\n",
    "    for k, v in test_summary.items()\n",
    "    if not isinstance(v, pd.Series)\n",
    "}\n",
    "json_val_metrics = {\n",
    "    k: float(v) if isinstance(v, (np.generic, np.float64, np.float32)) else v\n",
    "    for k, v in val_summary.items()\n",
    "    if not isinstance(v, pd.Series)\n",
    "}\n",
    "\n",
    "json_path = RESULTS_PATH / \"single_point_model_metrics_log.json\"\n",
    "\n",
    "log_run_json(\n",
    "    identifier=\"Baseline XGBoost Regressor\",\n",
    "    model_type=\"XGBoost\",\n",
    "    features=features,\n",
    "    train_subset=\"full train set\",\n",
    "    test_subset=\"full test set\",\n",
    "    val_subset=\"full validation set\",  \n",
    "    description=description,\n",
    "    test_metrics=json_test_metrics,\n",
    "    val_metrics=json_val_metrics,\n",
    "\n",
    "    json_path=json_path\n",
    ")\n"
   ]
  },
  {
   "cell_type": "code",
   "execution_count": 6,
   "id": "62cddd13",
   "metadata": {},
   "outputs": [
    {
     "name": "stdout",
     "output_type": "stream",
     "text": [
      "Test set evaluation:\n",
      "Macro-averaged per-patient metrics:\n",
      "MAE  = 0.636\n",
      "MSE  = 1.290\n",
      "RMSE = 0.728\n",
      "Mean Bias Error = 0.103\n",
      "MAPE = 6.034%\n",
      "nRMSE = 4.246%\n",
      "Validation set evaluation:\n",
      "Macro-averaged per-patient metrics:\n",
      "MAE  = 0.560\n",
      "MSE  = 0.838\n",
      "RMSE = 0.594\n",
      "Mean Bias Error = -0.074\n",
      "MAPE = 4.380%\n",
      "nRMSE = 3.044%\n"
     ]
    }
   ],
   "source": [
    "features = ['shift_raw', 'log_PiO2',  'SpO2_over_PiO2','SpO2_squared']\n",
    "\n",
    "#  Filter subsets where SpO₂ < 92.5%\n",
    "train_sub = train_df_engineered[train_df_engineered['SpO2(%)'] < 92.5]\n",
    "test_sub = test_df_engineered[test_df_engineered['SpO2(%)'] < 92.5]\n",
    "val_sub = val_df_engineered[val_df_engineered['SpO2(%)'] < 92.5]\n",
    "\n",
    "cv_models = fit_cv_models(\n",
    "    train_df,\n",
    "    features=features,\n",
    "    target_col='shift',\n",
    "    model_class=XGBRegressor,\n",
    "    k=10,\n",
    "    model_kwargs={'n_estimators': 100, 'max_depth': 3, 'random_state': 42}\n",
    ")\n",
    "\n",
    "\n",
    "# Predict using ensemble average\n",
    "test_sub = test_sub.copy()\n",
    "val_sub = val_sub.copy()\n",
    "\n",
    "test_sub['y_pred'] = predict_cv_ensemble(test_sub, features, cv_models)\n",
    "val_sub['y_pred'] = predict_cv_ensemble(val_sub, features, cv_models)\n",
    "\n",
    "# Evaluate using patient-level macro averaging\n",
    "test_summary = evaluate_macro_patient_level(test_sub, y_true_col='shift', y_pred_col='y_pred')\n",
    "val_summary = evaluate_macro_patient_level(val_sub, y_true_col='shift', y_pred_col='y_pred')\n",
    "\n",
    "# Print evaluation\n",
    "print(\"Test set evaluation:\")\n",
    "print_evaluation(test_summary)\n",
    "\n",
    "print(\"Validation set evaluation:\")\n",
    "print_evaluation(val_summary)"
   ]
  },
  {
   "cell_type": "code",
   "execution_count": 7,
   "id": "5668b317",
   "metadata": {},
   "outputs": [
    {
     "name": "stdout",
     "output_type": "stream",
     "text": [
      "✅ Logged run #6 ➜ /Users/sarah/Code/neonatal-odc-shift/results/single_point_model_metrics_log.json\n"
     ]
    }
   ],
   "source": [
    "description = f'''\n",
    "Model: XGBoost Regressor Subset\n",
    "Description: This is a model that is trained on all engineered features on the subset of patients with SpO₂ < 92.5%.\n",
    "Features: {', '.join(features)}\n",
    "Target: shift\n",
    "Notes: patient-level macro metrics, ODC from neonatal table\n",
    "'''\n",
    "\n",
    "# Filter only scalar (JSON-serializable) entries\n",
    "json_test_metrics = {\n",
    "    k: float(v) if isinstance(v, (np.generic, np.float64, np.float32)) else v\n",
    "    for k, v in test_summary.items()\n",
    "    if not isinstance(v, pd.Series)\n",
    "}\n",
    "json_val_metrics = {\n",
    "    k: float(v) if isinstance(v, (np.generic, np.float64, np.float32)) else v\n",
    "    for k, v in val_summary.items()\n",
    "    if not isinstance(v, pd.Series)\n",
    "}\n",
    "\n",
    "json_path = RESULTS_PATH / \"single_point_model_metrics_log.json\"\n",
    "\n",
    "log_run_json(\n",
    "    identifier=\"XBoost Regressor Subset\",\n",
    "    model_type=\"XGBoost\",\n",
    "    features=features,\n",
    "    train_subset=\"full train set\",\n",
    "    test_subset=\"full test set\",\n",
    "    val_subset=\"full validation set\",  \n",
    "    description=description,\n",
    "    test_metrics=json_test_metrics,\n",
    "    val_metrics=json_val_metrics,\n",
    "\n",
    "    json_path=json_path\n",
    ")\n"
   ]
  }
 ],
 "metadata": {
  "kernelspec": {
   "display_name": "MasterThesis",
   "language": "python",
   "name": "python3"
  },
  "language_info": {
   "codemirror_mode": {
    "name": "ipython",
    "version": 3
   },
   "file_extension": ".py",
   "mimetype": "text/x-python",
   "name": "python",
   "nbconvert_exporter": "python",
   "pygments_lexer": "ipython3",
   "version": "3.10.13"
  }
 },
 "nbformat": 4,
 "nbformat_minor": 5
}
